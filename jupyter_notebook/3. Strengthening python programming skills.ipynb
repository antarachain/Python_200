{
 "cells": [
  {
   "cell_type": "code",
   "execution_count": 12,
   "metadata": {},
   "outputs": [
    {
     "name": "stdout",
     "output_type": "stream",
     "text": [
      "이름을 입력하세요허인행\n",
      "당신이 입력한 이름은 <허인행>입니다.\n"
     ]
    }
   ],
   "source": [
    "k = input('이름을 입력하세요')\n",
    "print('당신이 입력한 이름은 <'+k+'>입니다.')"
   ]
  },
  {
   "cell_type": "code",
   "execution_count": 13,
   "metadata": {},
   "outputs": [
    {
     "name": "stdout",
     "output_type": "stream",
     "text": [
      "<class 'int'>\n",
      "<class 'str'>\n",
      "<class 'list'>\n",
      "<class 'dict'>\n",
      "<class 'function'>\n"
     ]
    }
   ],
   "source": [
    "numdata = 57\n",
    "strdata = '파이썬'\n",
    "listdata = [1,2,3]\n",
    "dictdata = {'a':1, 'b':2}\n",
    "\n",
    "def func():\n",
    "    print('안녕하세요.')\n",
    "    \n",
    "print(type(numdata))\n",
    "print(type(strdata))\n",
    "print(type(listdata))\n",
    "print(type(dictdata))\n",
    "print(type(func))"
   ]
  },
  {
   "cell_type": "code",
   "execution_count": 16,
   "metadata": {},
   "outputs": [
    {
     "name": "stdout",
     "output_type": "stream",
     "text": [
      "<11113>를 <23>로 나누면 <4>가 나머지로 남습니다.\n"
     ]
    }
   ],
   "source": [
    "a = 11113\n",
    "b = 23\n",
    "ret = a%b            # 나눗셈에서 나머지만 구하기(%)\n",
    "print('<%d>를 <%d>로 나누면 <%d>가 나머지로 남습니다.' %(a,b,ret))"
   ]
  },
  {
   "cell_type": "code",
   "execution_count": 17,
   "metadata": {},
   "outputs": [
    {
     "name": "stdout",
     "output_type": "stream",
     "text": [
      "<11113/ 23>는 몫이 <483>, 나머지가 <4>입니다.\n"
     ]
    }
   ],
   "source": [
    "a = 11113\n",
    "b = 23\n",
    "ret1, ret2, = divmod(a,b)           # 몫과 나머지 구하기\n",
    "print('<%d/ %d>는 몫이 <%d>, 나머지가 <%d>입니다.' %(a,b,ret1,ret2))"
   ]
  },
  {
   "cell_type": "code",
   "execution_count": 18,
   "metadata": {},
   "outputs": [
    {
     "name": "stdout",
     "output_type": "stream",
     "text": [
      "0x610x62\n",
      "0xc3\n"
     ]
    }
   ],
   "source": [
    "h1 = hex(97)\n",
    "h2 = hex(98)\n",
    "ret1 = h1 + h2\n",
    "print(ret1)\n",
    "a = int(h1, 16)\n",
    "b = int(h2, 16)\n",
    "ret2 = a+b\n",
    "print(hex(ret2))"
   ]
  },
  {
   "cell_type": "code",
   "execution_count": 21,
   "metadata": {},
   "outputs": [
    {
     "name": "stdout",
     "output_type": "stream",
     "text": [
      "3\n",
      "5.72\n",
      "5.0\n"
     ]
    }
   ],
   "source": [
    "abs1 = abs(-3)\n",
    "abs2 = abs(-5.72)\n",
    "abs3 = abs(3+4j)\n",
    "print(abs1)\n",
    "print(abs2)\n",
    "print(abs3)"
   ]
  },
  {
   "cell_type": "code",
   "execution_count": 23,
   "metadata": {},
   "outputs": [
    {
     "name": "stdout",
     "output_type": "stream",
     "text": [
      "1118\n",
      "17\n",
      "1120\n",
      "16.55\n"
     ]
    }
   ],
   "source": [
    "ret1 = round(1118)\n",
    "ret2 = round(16.554)\n",
    "ret3 = round(1118, -1)\n",
    "ret4 = round(16.554, 2)\n",
    "print(ret1)\n",
    "print(ret2)\n",
    "print(ret3)\n",
    "print(ret4)"
   ]
  },
  {
   "cell_type": "code",
   "execution_count": 24,
   "metadata": {},
   "outputs": [
    {
     "name": "stdout",
     "output_type": "stream",
     "text": [
      "-5\n",
      "17\n",
      "171\n"
     ]
    }
   ],
   "source": [
    "idata1 = int(-5.4)\n",
    "idata2 = int(1.78e1)\n",
    "idata3 = int(171.56)\n",
    "print(idata1)\n",
    "print(idata2)\n",
    "print(idata3)"
   ]
  },
  {
   "cell_type": "code",
   "execution_count": 25,
   "metadata": {},
   "outputs": [
    {
     "name": "stdout",
     "output_type": "stream",
     "text": [
      "10.0\n"
     ]
    }
   ],
   "source": [
    "fdata = float(10)\n",
    "print(fdata)"
   ]
  },
  {
   "cell_type": "code",
   "execution_count": 34,
   "metadata": {},
   "outputs": [
    {
     "name": "stdout",
     "output_type": "stream",
     "text": [
      "[119, 11113, 11119]\n"
     ]
    }
   ],
   "source": [
    "def getPrime(x):\n",
    "    if x%2 == 0:\n",
    "        return\n",
    "    \n",
    "    for i in range(3, int(x/2), 2):\n",
    "        if x%i == 0: \n",
    "            break\n",
    "            \n",
    "        else:\n",
    "            return x\n",
    "        \n",
    "listdata = [117,119,1113,11113,11119]\n",
    "ret = filter(getPrime, listdata)\n",
    "print(list(ret))"
   ]
  },
  {
   "cell_type": "code",
   "execution_count": 35,
   "metadata": {},
   "outputs": [
    {
     "name": "stdout",
     "output_type": "stream",
     "text": [
      "[2]\n"
     ]
    }
   ],
   "source": [
    "def getPrime(n):\n",
    "    ret = [2]\n",
    "    if n <= 2:\n",
    "        return ret\n",
    "    \n",
    "    for i in range(3, n+1, 2):\n",
    "        for k in range(3, int(i/2), 2):\n",
    "            a = i%k\n",
    "            if a == 0:\n",
    "                break\n",
    "            else:\n",
    "                ret.append(i)\n",
    "    \n",
    "    return ret\n",
    "\n",
    "ret = getPrime(10)\n",
    "print(ret)"
   ]
  },
  {
   "cell_type": "code",
   "execution_count": 42,
   "metadata": {},
   "outputs": [
    {
     "name": "stdout",
     "output_type": "stream",
     "text": [
      "9.96\n",
      "0.93\n",
      "y\n",
      "A\n",
      "9\n",
      "a12\n"
     ]
    }
   ],
   "source": [
    "listdata = [9.96, 1.27, 5.07, 6.45, 8.38, 9.29, 4.93, 7.73, 3.71, 0.93]\n",
    "maxval = max(listdata)\n",
    "minval = min(listdata)\n",
    "print(maxval)\n",
    "print(minval)\n",
    "\n",
    "txt = 'Alotofthingsoccureachday'\n",
    "maxval = max(txt)\n",
    "minval = min(txt)\n",
    "print(maxval)\n",
    "print(minval)\n",
    "\n",
    "maxval = max(2+3, 2*3, 2**3, 3**2)\n",
    "minval = min('abz','a12')\n",
    "print(maxval)\n",
    "print(minval)"
   ]
  },
  {
   "cell_type": "code",
   "execution_count": 43,
   "metadata": {},
   "outputs": [
    {
     "name": "stdout",
     "output_type": "stream",
     "text": [
      "11\n"
     ]
    }
   ],
   "source": [
    "a = 107\n",
    "b = a&0x0f\n",
    "print(b)"
   ]
  },
  {
   "cell_type": "code",
   "execution_count": 44,
   "metadata": {},
   "outputs": [
    {
     "name": "stdout",
     "output_type": "stream",
     "text": [
      "6\n"
     ]
    }
   ],
   "source": [
    "a = 107\n",
    "b = (a>>4)&0x0f\n",
    "print(b)"
   ]
  },
  {
   "cell_type": "code",
   "execution_count": 45,
   "metadata": {},
   "outputs": [
    {
     "name": "stdout",
     "output_type": "stream",
     "text": [
      "e\n",
      "라\n"
     ]
    }
   ],
   "source": [
    "txt1 = \"A tale that was not right\"\n",
    "txt2 = '이 또한 지나가리라.'\n",
    "print(txt1[5])\n",
    "print(txt2[-2])"
   ]
  },
  {
   "cell_type": "code",
   "execution_count": 48,
   "metadata": {},
   "outputs": [
    {
     "name": "stdout",
     "output_type": "stream",
     "text": [
      "ale \n",
      "이 또한 지\n",
      "가리라.\n"
     ]
    }
   ],
   "source": [
    "txt1 = \"A tale that was not right\"\n",
    "txt2 = '이 또한 지나가리라.'\n",
    "print(txt1[3:7])\n",
    "print(txt2[:6])\n",
    "print(txt2[-4:])"
   ]
  },
  {
   "cell_type": "code",
   "execution_count": 51,
   "metadata": {},
   "outputs": [
    {
     "name": "stdout",
     "output_type": "stream",
     "text": [
      "p\n",
      "py\n",
      "pyt\n",
      "pyth\n",
      "pytho\n",
      "python\n"
     ]
    }
   ],
   "source": [
    "txt = 'python'\n",
    "for i in range(len(txt)):\n",
    "    print(txt[:i+1])"
   ]
  },
  {
   "cell_type": "code",
   "execution_count": 65,
   "metadata": {},
   "outputs": [
    {
     "name": "stdout",
     "output_type": "stream",
     "text": [
      "abcdefghijk\n"
     ]
    }
   ],
   "source": [
    "txt = 'aAbBcCdDeEfFgGhHiIjJkK'\n",
    "ret = txt[::2]\n",
    "print(ret)"
   ]
  },
  {
   "cell_type": "code",
   "execution_count": 66,
   "metadata": {},
   "outputs": [
    {
     "data": {
      "text/plain": [
       "'ABCDEFGHIJK'"
      ]
     },
     "execution_count": 66,
     "metadata": {},
     "output_type": "execute_result"
    }
   ],
   "source": [
    "ret = txt[1::2]\n",
    "ret"
   ]
  },
  {
   "cell_type": "code",
   "execution_count": 67,
   "metadata": {},
   "outputs": [
    {
     "name": "stdout",
     "output_type": "stream",
     "text": [
      "kjihgfedcba\n"
     ]
    }
   ],
   "source": [
    "txt = 'abcdefghijk'\n",
    "ret = txt[::-1]\n",
    "print(ret)"
   ]
  },
  {
   "cell_type": "code",
   "execution_count": 69,
   "metadata": {},
   "outputs": [
    {
     "name": "stdout",
     "output_type": "stream",
     "text": [
      "kigeca\n"
     ]
    }
   ],
   "source": [
    "ret = txt[::-2]\n",
    "print(ret)"
   ]
  },
  {
   "cell_type": "code",
   "execution_count": 71,
   "metadata": {},
   "outputs": [
    {
     "name": "stdout",
     "output_type": "stream",
     "text": [
      "jhfdb\n"
     ]
    }
   ],
   "source": [
    "ret = txt[-2::-2]\n",
    "print(ret)"
   ]
  },
  {
   "cell_type": "code",
   "execution_count": 74,
   "metadata": {},
   "outputs": [
    {
     "name": "stdout",
     "output_type": "stream",
     "text": [
      "저장할 파일이름을 입력하세요:사진이요\n",
      "당신이 저장한 파일은 <사진이요.jpg> 입니다.\n"
     ]
    }
   ],
   "source": [
    "filename = input(\"저장할 파일이름을 입력하세요:\")\n",
    "filename = filename + '.jpg'\n",
    "display_msg = '당신이 저장한 파일은 <'+filename+'> 입니다.'\n",
    "print(display_msg)"
   ]
  },
  {
   "cell_type": "code",
   "execution_count": 77,
   "metadata": {},
   "outputs": [
    {
     "name": "stdout",
     "output_type": "stream",
     "text": [
      "여러분,파이팅!파이팅!파이팅!~!\n"
     ]
    }
   ],
   "source": [
    "msg1= '여러분'\n",
    "msg2 = '파이팅!'\n",
    "display_msg = msg1+','+msg2*3+'~!'\n",
    "print(display_msg)"
   ]
  },
  {
   "cell_type": "code",
   "execution_count": 2,
   "metadata": {},
   "outputs": [
    {
     "name": "stdout",
     "output_type": "stream",
     "text": [
      "임의의 문장을 입력하세요.abc\n",
      "당신이 입력한 문장에는 a가 있습니다.\n"
     ]
    }
   ],
   "source": [
    "msg = input('임의의 문장을 입력하세요.')\n",
    "if 'a' in msg:\n",
    "    print('당신이 입력한 문장에는 a가 있습니다.')\n",
    "else:\n",
    "    print('당신이 입력한 문장에는 a가 없습니다.')"
   ]
  },
  {
   "cell_type": "code",
   "execution_count": 3,
   "metadata": {},
   "outputs": [
    {
     "name": "stdout",
     "output_type": "stream",
     "text": [
      "임의의 문장을 입력하세요:time is money\n",
      "당신이 입력한 문장에는 is가 있습니다.\n"
     ]
    }
   ],
   "source": [
    "msg = input('임의의 문장을 입력하세요:')\n",
    "if 'is' in msg:\n",
    "    print('당신이 입력한 문장에는 is가 있습니다.')\n",
    "else:\n",
    "    print('당신이 입력한 문장에는 is가 없습니다.')"
   ]
  },
  {
   "cell_type": "code",
   "execution_count": 7,
   "metadata": {},
   "outputs": [
    {
     "name": "stdout",
     "output_type": "stream",
     "text": [
      "임의의 문장을 입력하세요지구는 둥글다\n",
      "당신이 입력한 문장의 길이는 <7>입니다.\n"
     ]
    }
   ],
   "source": [
    "msg = input('임의의 문장을 입력하세요')\n",
    "msglen = len(msg)\n",
    "print('당신이 입력한 문장의 길이는 <%d>입니다.' %msglen)"
   ]
  },
  {
   "cell_type": "code",
   "execution_count": 8,
   "metadata": {},
   "outputs": [
    {
     "name": "stdout",
     "output_type": "stream",
     "text": [
      "True\n",
      "True\n",
      "False\n",
      "False\n"
     ]
    }
   ],
   "source": [
    "txt1 = 'A'\n",
    "txt2 = '안녕'\n",
    "txt3 = 'Warcraft Three'\n",
    "txt4 = '3PO'\n",
    "ret1 = txt1.isalpha()\n",
    "ret2 = txt2.isalpha()\n",
    "ret3 = txt3.isalpha()\n",
    "ret4 = txt4.isalpha()\n",
    "print(ret1)\n",
    "print(ret2)\n",
    "print(ret3)\n",
    "print(ret4)"
   ]
  },
  {
   "cell_type": "code",
   "execution_count": 14,
   "metadata": {},
   "outputs": [
    {
     "name": "stdout",
     "output_type": "stream",
     "text": [
      "False\n",
      "False\n",
      "True\n"
     ]
    }
   ],
   "source": [
    "txt1='010-1234-5678'\n",
    "txt2='R2D2'\n",
    "txt3='1212'\n",
    "ret1=txt1.isdigit()\n",
    "ret2=txt2.isdigit()\n",
    "ret3=txt3.isdigit()\n",
    "print(ret1)\n",
    "print(ret2)\n",
    "print(ret3)"
   ]
  },
  {
   "cell_type": "code",
   "execution_count": 16,
   "metadata": {},
   "outputs": [
    {
     "name": "stdout",
     "output_type": "stream",
     "text": [
      "False\n",
      "False\n",
      "True\n"
     ]
    }
   ],
   "source": [
    "txt1='안녕하세요?'\n",
    "txt2='1.TItle-제목을 넣으세요'\n",
    "txt3='3피오R2D2'\n",
    "ret1=txt1.isalnum()\n",
    "ret2=txt2.isalnum()\n",
    "ret3=txt3.isalnum()\n",
    "print(ret1)\n",
    "print(ret2)\n",
    "print(ret3)"
   ]
  },
  {
   "cell_type": "code",
   "execution_count": 18,
   "metadata": {},
   "outputs": [
    {
     "name": "stdout",
     "output_type": "stream",
     "text": [
      "A LOT OF THINGS OCCUR EACH DAY.\n",
      "a lot of things occur each day.\n"
     ]
    }
   ],
   "source": [
    "txt = 'A lot of Things occur each day.'\n",
    "ret1=txt.upper()\n",
    "ret2=txt.lower()\n",
    "print(ret1)\n",
    "print(ret2)"
   ]
  },
  {
   "cell_type": "code",
   "execution_count": null,
   "metadata": {
    "scrolled": true
   },
   "outputs": [],
   "source": [
    "txt = '     양쪽에 공백이 있는 문자열입니다.     '\n",
    "ret1 = txt.lstrip()\n",
    "ret2 = txt.rstrip()\n",
    "ret3 = txt.strip()\n",
    "print('<'+txt+'>')\n",
    "print(txt)\n",
    "print('<'+ret1+'>')\n",
    "print(ret1)\n",
    "print('<'+ret2+'>')\n",
    "print(ret2)\n",
    "print('<'+ret3+'>')\n",
    "print(ret3)"
   ]
  },
  {
   "cell_type": "code",
   "execution_count": null,
   "metadata": {},
   "outputs": [],
   "source": [
    "numstr = input('숫자를 입력하세요:')\n",
    "try:\n",
    "    num = int(numstr)\n",
    "    print('당신이 입력한 숫자는 정수<%d>입니다.'%num)\n",
    "except:\n",
    "    try:\n",
    "        num=float(numstr)\n",
    "        print('당신이 입력한 숫자는 실수<%f>입니다.'%num)\n",
    "    except:\n",
    "        print(\"+++숫자를 입력하세요~ +++\")"
   ]
  },
  {
   "cell_type": "code",
   "execution_count": 1,
   "metadata": {},
   "outputs": [
    {
     "name": "stdout",
     "output_type": "stream",
     "text": [
      "num1을 문자열로 변환한 값은 \"1234\"입니다.\n",
      "num2를 문자열로 변환한 값은 \"3.14\"입니다.\n"
     ]
    }
   ],
   "source": [
    "num1 = 1234\n",
    "num2 = 3.14\n",
    "\n",
    "numstr1 = str(num1)\n",
    "numstr2 = str(num2)\n",
    "print('num1을 문자열로 변환한 값은 \"%s\"입니다.' %numstr1)\n",
    "print('num2를 문자열로 변환한 값은 \"%s\"입니다.' %numstr2)"
   ]
  },
  {
   "cell_type": "code",
   "execution_count": 11,
   "metadata": {},
   "outputs": [
    {
     "name": "stdout",
     "output_type": "stream",
     "text": [
      "3\n",
      "2\n",
      "8\n"
     ]
    }
   ],
   "source": [
    "txt = \"A lot of things occur each day, every day.\"\n",
    "word_count1 = txt.count('o')\n",
    "word_count2 = txt.count('day')\n",
    "word_count3 = txt.count(' ')\n",
    "print(word_count1)\n",
    "print(word_count2)\n",
    "print(word_count3)"
   ]
  },
  {
   "cell_type": "code",
   "execution_count": 14,
   "metadata": {},
   "outputs": [
    {
     "name": "stdout",
     "output_type": "stream",
     "text": [
      "22\n",
      "27\n",
      "38\n"
     ]
    }
   ],
   "source": [
    "txt = 'A lot of things occur each day, every day.'\n",
    "offset1 = txt.find('e')\n",
    "offset2 = txt.find('day')\n",
    "offset3 = txt.find('day',30)\n",
    "print(offset1)\n",
    "print(offset2)\n",
    "print(offset3)"
   ]
  },
  {
   "cell_type": "code",
   "execution_count": 21,
   "metadata": {},
   "outputs": [
    {
     "name": "stdout",
     "output_type": "stream",
     "text": [
      "['http:', '', 'www.naver.com', 'news', 'today=20160831']\n",
      "name -> 홍길동\n",
      "age -> 17\n",
      "sex -> 남자\n",
      "nation -> 조선\n"
     ]
    }
   ],
   "source": [
    "url = 'http://www.naver.com/news/today=20160831'\n",
    "log='name:홍길동 age:17 sex:남자 nation:조선'\n",
    "\n",
    "ret1 = url.split('/')\n",
    "print(ret1)\n",
    "\n",
    "ret2 = log.split()\n",
    "for data in ret2:\n",
    "    d1, d2 = data.split(':')\n",
    "    print('%s -> %s' %(d1,d2))"
   ]
  },
  {
   "cell_type": "code",
   "execution_count": 25,
   "metadata": {},
   "outputs": [
    {
     "name": "stdout",
     "output_type": "stream",
     "text": [
      "2016/08/26 10:12:11;200;OK;이 또한 지나가리라\n"
     ]
    }
   ],
   "source": [
    "loglist = ['2016/08/26 10:12:11', '200', 'OK', '이 또한 지나가리라']\n",
    "bond = ';'\n",
    "log = bond.join(loglist)\n",
    "print(log)"
   ]
  },
  {
   "cell_type": "code",
   "execution_count": 29,
   "metadata": {},
   "outputs": [
    {
     "name": "stdout",
     "output_type": "stream",
     "text": [
      "My password is 0234\n",
      "My password is python234\n",
      "항상 많은 일들이 일어납니다.\n",
      "항상 많은 사건들이 사건어납니다.\n"
     ]
    }
   ],
   "source": [
    "txt = 'My password is 1234'\n",
    "ret1 = txt.replace('1','0')\n",
    "ret2 = txt.replace('1','python')\n",
    "print(ret1)\n",
    "print(ret2)\n",
    "\n",
    "txt = '매일 많은 일들이 일어납니다.'\n",
    "ret3 = txt.replace('매일','항상')\n",
    "ret4 = ret3.replace('일','사건')\n",
    "print(ret3)\n",
    "print(ret4)"
   ]
  },
  {
   "cell_type": "code",
   "execution_count": null,
   "metadata": {},
   "outputs": [],
   "source": []
  }
 ],
 "metadata": {
  "kernelspec": {
   "display_name": "Python 3.8.2 64-bit",
   "language": "python",
   "name": "python38264bit4094e939a8b946f98cca8c730a8cf25e"
  },
  "language_info": {
   "codemirror_mode": {
    "name": "ipython",
    "version": 3
   },
   "file_extension": ".py",
   "mimetype": "text/x-python",
   "name": "python",
   "nbconvert_exporter": "python",
   "pygments_lexer": "ipython3",
   "version": "3.8.3"
  }
 },
 "nbformat": 4,
 "nbformat_minor": 4
}
