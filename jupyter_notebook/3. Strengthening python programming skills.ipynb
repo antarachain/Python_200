{
 "cells": [
  {
   "cell_type": "code",
   "execution_count": 164,
   "metadata": {},
   "outputs": [
    {
     "name": "stdout",
     "output_type": "stream",
     "text": [
      "이름을 입력하세요\n",
      "당신이 입력한 이름은 <>입니다.\n"
     ]
    }
   ],
   "source": [
    "k = input('이름을 입력하세요')\n",
    "print('당신이 입력한 이름은 <'+k+'>입니다.')"
   ]
  },
  {
   "cell_type": "code",
   "execution_count": 165,
   "metadata": {},
   "outputs": [
    {
     "name": "stdout",
     "output_type": "stream",
     "text": [
      "<class 'int'>\n",
      "<class 'str'>\n",
      "<class 'list'>\n",
      "<class 'dict'>\n",
      "<class 'function'>\n"
     ]
    }
   ],
   "source": [
    "numdata = 57\n",
    "strdata = '파이썬'\n",
    "listdata = [1,2,3]\n",
    "dictdata = {'a':1, 'b':2}\n",
    "\n",
    "def func():\n",
    "    print('안녕하세요.')\n",
    "    \n",
    "print(type(numdata))\n",
    "print(type(strdata))\n",
    "print(type(listdata))\n",
    "print(type(dictdata))\n",
    "print(type(func))"
   ]
  },
  {
   "cell_type": "code",
   "execution_count": 166,
   "metadata": {},
   "outputs": [
    {
     "name": "stdout",
     "output_type": "stream",
     "text": [
      "<11113>를 <23>로 나누면 <4>가 나머지로 남습니다.\n"
     ]
    }
   ],
   "source": [
    "a = 11113\n",
    "b = 23\n",
    "ret = a%b            # 나눗셈에서 나머지만 구하기(%)\n",
    "print('<%d>를 <%d>로 나누면 <%d>가 나머지로 남습니다.' %(a,b,ret))"
   ]
  },
  {
   "cell_type": "code",
   "execution_count": 167,
   "metadata": {},
   "outputs": [
    {
     "name": "stdout",
     "output_type": "stream",
     "text": [
      "<11113/ 23>는 몫이 <483>, 나머지가 <4>입니다.\n"
     ]
    }
   ],
   "source": [
    "a = 11113\n",
    "b = 23\n",
    "ret1, ret2, = divmod(a,b)           # 몫과 나머지 구하기\n",
    "print('<%d/ %d>는 몫이 <%d>, 나머지가 <%d>입니다.' %(a,b,ret1,ret2))"
   ]
  },
  {
   "cell_type": "code",
   "execution_count": 168,
   "metadata": {},
   "outputs": [
    {
     "name": "stdout",
     "output_type": "stream",
     "text": [
      "0x610x62\n",
      "0xc3\n"
     ]
    }
   ],
   "source": [
    "h1 = hex(97)\n",
    "h2 = hex(98)\n",
    "ret1 = h1 + h2\n",
    "print(ret1)\n",
    "a = int(h1, 16)\n",
    "b = int(h2, 16)\n",
    "ret2 = a+b\n",
    "print(hex(ret2))"
   ]
  },
  {
   "cell_type": "code",
   "execution_count": 169,
   "metadata": {},
   "outputs": [
    {
     "name": "stdout",
     "output_type": "stream",
     "text": [
      "3\n",
      "5.72\n",
      "5.0\n"
     ]
    }
   ],
   "source": [
    "abs1 = abs(-3)\n",
    "abs2 = abs(-5.72)\n",
    "abs3 = abs(3+4j)\n",
    "print(abs1)\n",
    "print(abs2)\n",
    "print(abs3)"
   ]
  },
  {
   "cell_type": "code",
   "execution_count": 170,
   "metadata": {},
   "outputs": [
    {
     "name": "stdout",
     "output_type": "stream",
     "text": [
      "1118\n",
      "17\n",
      "1120\n",
      "16.55\n"
     ]
    }
   ],
   "source": [
    "ret1 = round(1118)\n",
    "ret2 = round(16.554)\n",
    "ret3 = round(1118, -1)\n",
    "ret4 = round(16.554, 2)\n",
    "print(ret1)\n",
    "print(ret2)\n",
    "print(ret3)\n",
    "print(ret4)"
   ]
  },
  {
   "cell_type": "code",
   "execution_count": 171,
   "metadata": {},
   "outputs": [
    {
     "name": "stdout",
     "output_type": "stream",
     "text": [
      "-5\n",
      "17\n",
      "171\n"
     ]
    }
   ],
   "source": [
    "idata1 = int(-5.4)\n",
    "idata2 = int(1.78e1)\n",
    "idata3 = int(171.56)\n",
    "print(idata1)\n",
    "print(idata2)\n",
    "print(idata3)"
   ]
  },
  {
   "cell_type": "code",
   "execution_count": 172,
   "metadata": {},
   "outputs": [
    {
     "name": "stdout",
     "output_type": "stream",
     "text": [
      "10.0\n"
     ]
    }
   ],
   "source": [
    "fdata = float(10)\n",
    "print(fdata)"
   ]
  },
  {
   "cell_type": "code",
   "execution_count": 173,
   "metadata": {},
   "outputs": [
    {
     "name": "stdout",
     "output_type": "stream",
     "text": [
      "[119, 11113, 11119]\n"
     ]
    }
   ],
   "source": [
    "def getPrime(x):\n",
    "    if x%2 == 0:\n",
    "        return\n",
    "    \n",
    "    for i in range(3, int(x/2), 2):\n",
    "        if x%i == 0: \n",
    "            break\n",
    "            \n",
    "        else:\n",
    "            return x\n",
    "        \n",
    "listdata = [117,119,1113,11113,11119]\n",
    "ret = filter(getPrime, listdata)\n",
    "print(list(ret))"
   ]
  },
  {
   "cell_type": "code",
   "execution_count": 174,
   "metadata": {},
   "outputs": [
    {
     "name": "stdout",
     "output_type": "stream",
     "text": [
      "[2]\n"
     ]
    }
   ],
   "source": [
    "def getPrime(n):\n",
    "    ret = [2]\n",
    "    if n <= 2:\n",
    "        return ret\n",
    "    \n",
    "    for i in range(3, n+1, 2):\n",
    "        for k in range(3, int(i/2), 2):\n",
    "            a = i%k\n",
    "            if a == 0:\n",
    "                break\n",
    "            else:\n",
    "                ret.append(i)\n",
    "    \n",
    "    return ret\n",
    "\n",
    "ret = getPrime(10)\n",
    "print(ret)"
   ]
  },
  {
   "cell_type": "code",
   "execution_count": 175,
   "metadata": {},
   "outputs": [
    {
     "name": "stdout",
     "output_type": "stream",
     "text": [
      "9.96\n",
      "0.93\n",
      "y\n",
      "A\n",
      "9\n",
      "a12\n"
     ]
    }
   ],
   "source": [
    "listdata = [9.96, 1.27, 5.07, 6.45, 8.38, 9.29, 4.93, 7.73, 3.71, 0.93]\n",
    "maxval = max(listdata)\n",
    "minval = min(listdata)\n",
    "print(maxval)\n",
    "print(minval)\n",
    "\n",
    "txt = 'Alotofthingsoccureachday'\n",
    "maxval = max(txt)\n",
    "minval = min(txt)\n",
    "print(maxval)\n",
    "print(minval)\n",
    "\n",
    "maxval = max(2+3, 2*3, 2**3, 3**2)\n",
    "minval = min('abz','a12')\n",
    "print(maxval)\n",
    "print(minval)"
   ]
  },
  {
   "cell_type": "code",
   "execution_count": 176,
   "metadata": {},
   "outputs": [
    {
     "name": "stdout",
     "output_type": "stream",
     "text": [
      "11\n"
     ]
    }
   ],
   "source": [
    "a = 107\n",
    "b = a&0x0f\n",
    "print(b)"
   ]
  },
  {
   "cell_type": "code",
   "execution_count": 177,
   "metadata": {},
   "outputs": [
    {
     "name": "stdout",
     "output_type": "stream",
     "text": [
      "6\n"
     ]
    }
   ],
   "source": [
    "a = 107\n",
    "b = (a>>4)&0x0f\n",
    "print(b)"
   ]
  },
  {
   "cell_type": "code",
   "execution_count": 21,
   "metadata": {},
   "outputs": [
    {
     "name": "stdout",
     "output_type": "stream",
     "text": [
      "e\n",
      "라\n"
     ]
    }
   ],
   "source": [
    "txt1 = \"A tale that was not right\"\n",
    "txt2 = '이 또한 지나가리라.'\n",
    "print(txt1[5])\n",
    "print(txt2[-2])"
   ]
  },
  {
   "cell_type": "code",
   "execution_count": 22,
   "metadata": {},
   "outputs": [
    {
     "name": "stdout",
     "output_type": "stream",
     "text": [
      "ale \n",
      "이 또한 지\n",
      "가리라.\n"
     ]
    }
   ],
   "source": [
    "txt1 = \"A tale that was not right\"\n",
    "txt2 = '이 또한 지나가리라.'\n",
    "print(txt1[3:7])\n",
    "print(txt2[:6])\n",
    "print(txt2[-4:])"
   ]
  },
  {
   "cell_type": "code",
   "execution_count": 23,
   "metadata": {},
   "outputs": [
    {
     "name": "stdout",
     "output_type": "stream",
     "text": [
      "p\n",
      "py\n",
      "pyt\n",
      "pyth\n",
      "pytho\n",
      "python\n"
     ]
    }
   ],
   "source": [
    "txt = 'python'\n",
    "for i in range(len(txt)):\n",
    "    print(txt[:i+1])"
   ]
  },
  {
   "cell_type": "code",
   "execution_count": 24,
   "metadata": {},
   "outputs": [
    {
     "name": "stdout",
     "output_type": "stream",
     "text": [
      "abcdefghijk\n"
     ]
    }
   ],
   "source": [
    "txt = 'aAbBcCdDeEfFgGhHiIjJkK'\n",
    "ret = txt[::2]\n",
    "print(ret)"
   ]
  },
  {
   "cell_type": "code",
   "execution_count": 25,
   "metadata": {},
   "outputs": [
    {
     "data": {
      "text/plain": [
       "'ABCDEFGHIJK'"
      ]
     },
     "execution_count": 25,
     "metadata": {},
     "output_type": "execute_result"
    }
   ],
   "source": [
    "ret = txt[1::2]\n",
    "ret"
   ]
  },
  {
   "cell_type": "code",
   "execution_count": 26,
   "metadata": {},
   "outputs": [
    {
     "name": "stdout",
     "output_type": "stream",
     "text": [
      "kjihgfedcba\n"
     ]
    }
   ],
   "source": [
    "txt = 'abcdefghijk'\n",
    "ret = txt[::-1]\n",
    "print(ret)"
   ]
  },
  {
   "cell_type": "code",
   "execution_count": 27,
   "metadata": {},
   "outputs": [
    {
     "name": "stdout",
     "output_type": "stream",
     "text": [
      "kigeca\n"
     ]
    }
   ],
   "source": [
    "ret = txt[::-2]\n",
    "print(ret)"
   ]
  },
  {
   "cell_type": "code",
   "execution_count": 28,
   "metadata": {},
   "outputs": [
    {
     "name": "stdout",
     "output_type": "stream",
     "text": [
      "jhfdb\n"
     ]
    }
   ],
   "source": [
    "ret = txt[-2::-2]\n",
    "print(ret)"
   ]
  },
  {
   "cell_type": "code",
   "execution_count": 30,
   "metadata": {},
   "outputs": [
    {
     "name": "stdout",
     "output_type": "stream",
     "text": [
      "저장할 파일이름을 입력하세요:\n",
      "당신이 저장한 파일은 <.jpg> 입니다.\n"
     ]
    }
   ],
   "source": [
    "filename = input(\"저장할 파일이름을 입력하세요:\")\n",
    "filename = filename + '.jpg'\n",
    "display_msg = '당신이 저장한 파일은 <'+filename+'> 입니다.'\n",
    "print(display_msg)"
   ]
  },
  {
   "cell_type": "code",
   "execution_count": 31,
   "metadata": {},
   "outputs": [
    {
     "name": "stdout",
     "output_type": "stream",
     "text": [
      "여러분,파이팅!파이팅!파이팅!~!\n"
     ]
    }
   ],
   "source": [
    "msg1= '여러분'\n",
    "msg2 = '파이팅!'\n",
    "display_msg = msg1+','+msg2*3+'~!'\n",
    "print(display_msg)"
   ]
  },
  {
   "cell_type": "code",
   "execution_count": 32,
   "metadata": {},
   "outputs": [
    {
     "name": "stdout",
     "output_type": "stream",
     "text": [
      "임의의 문장을 입력하세요.\n",
      "당신이 입력한 문장에는 a가 없습니다.\n"
     ]
    }
   ],
   "source": [
    "msg = input('임의의 문장을 입력하세요.')\n",
    "if 'a' in msg:\n",
    "    print('당신이 입력한 문장에는 a가 있습니다.')\n",
    "else:\n",
    "    print('당신이 입력한 문장에는 a가 없습니다.')"
   ]
  },
  {
   "cell_type": "code",
   "execution_count": 33,
   "metadata": {},
   "outputs": [
    {
     "name": "stdout",
     "output_type": "stream",
     "text": [
      "임의의 문장을 입력하세요:\n",
      "당신이 입력한 문장에는 is가 없습니다.\n"
     ]
    }
   ],
   "source": [
    "msg = input('임의의 문장을 입력하세요:')\n",
    "if 'is' in msg:\n",
    "    print('당신이 입력한 문장에는 is가 있습니다.')\n",
    "else:\n",
    "    print('당신이 입력한 문장에는 is가 없습니다.')"
   ]
  },
  {
   "cell_type": "code",
   "execution_count": 34,
   "metadata": {},
   "outputs": [
    {
     "name": "stdout",
     "output_type": "stream",
     "text": [
      "임의의 문장을 입력하세요\n",
      "당신이 입력한 문장의 길이는 <0>입니다.\n"
     ]
    }
   ],
   "source": [
    "msg = input('임의의 문장을 입력하세요')\n",
    "msglen = len(msg)\n",
    "print('당신이 입력한 문장의 길이는 <%d>입니다.' %msglen)"
   ]
  },
  {
   "cell_type": "code",
   "execution_count": 35,
   "metadata": {},
   "outputs": [
    {
     "name": "stdout",
     "output_type": "stream",
     "text": [
      "True\n",
      "True\n",
      "False\n",
      "False\n"
     ]
    }
   ],
   "source": [
    "txt1 = 'A'\n",
    "txt2 = '안녕'\n",
    "txt3 = 'Warcraft Three'\n",
    "txt4 = '3PO'\n",
    "ret1 = txt1.isalpha()\n",
    "ret2 = txt2.isalpha()\n",
    "ret3 = txt3.isalpha()\n",
    "ret4 = txt4.isalpha()\n",
    "print(ret1)\n",
    "print(ret2)\n",
    "print(ret3)\n",
    "print(ret4)"
   ]
  },
  {
   "cell_type": "code",
   "execution_count": 36,
   "metadata": {},
   "outputs": [
    {
     "name": "stdout",
     "output_type": "stream",
     "text": [
      "False\n",
      "False\n",
      "True\n"
     ]
    }
   ],
   "source": [
    "txt1='010-1234-5678'\n",
    "txt2='R2D2'\n",
    "txt3='1212'\n",
    "ret1=txt1.isdigit()\n",
    "ret2=txt2.isdigit()\n",
    "ret3=txt3.isdigit()\n",
    "print(ret1)\n",
    "print(ret2)\n",
    "print(ret3)"
   ]
  },
  {
   "cell_type": "code",
   "execution_count": 37,
   "metadata": {},
   "outputs": [
    {
     "name": "stdout",
     "output_type": "stream",
     "text": [
      "False\n",
      "False\n",
      "True\n"
     ]
    }
   ],
   "source": [
    "txt1='안녕하세요?'\n",
    "txt2='1.TItle-제목을 넣으세요'\n",
    "txt3='3피오R2D2'\n",
    "ret1=txt1.isalnum()\n",
    "ret2=txt2.isalnum()\n",
    "ret3=txt3.isalnum()\n",
    "print(ret1)\n",
    "print(ret2)\n",
    "print(ret3)"
   ]
  },
  {
   "cell_type": "code",
   "execution_count": 38,
   "metadata": {},
   "outputs": [
    {
     "name": "stdout",
     "output_type": "stream",
     "text": [
      "A LOT OF THINGS OCCUR EACH DAY.\n",
      "a lot of things occur each day.\n"
     ]
    }
   ],
   "source": [
    "txt = 'A lot of Things occur each day.'\n",
    "ret1=txt.upper()\n",
    "ret2=txt.lower()\n",
    "print(ret1)\n",
    "print(ret2)"
   ]
  },
  {
   "cell_type": "code",
   "execution_count": 39,
   "metadata": {
    "scrolled": true
   },
   "outputs": [
    {
     "name": "stdout",
     "output_type": "stream",
     "text": [
      "<     양쪽에 공백이 있는 문자열입니다.     >\n",
      "     양쪽에 공백이 있는 문자열입니다.     \n",
      "<양쪽에 공백이 있는 문자열입니다.     >\n",
      "양쪽에 공백이 있는 문자열입니다.     \n",
      "<     양쪽에 공백이 있는 문자열입니다.>\n",
      "     양쪽에 공백이 있는 문자열입니다.\n",
      "<양쪽에 공백이 있는 문자열입니다.>\n",
      "양쪽에 공백이 있는 문자열입니다.\n"
     ]
    }
   ],
   "source": [
    "txt = '     양쪽에 공백이 있는 문자열입니다.     '\n",
    "ret1 = txt.lstrip()\n",
    "ret2 = txt.rstrip()\n",
    "ret3 = txt.strip()\n",
    "print('<'+txt+'>')\n",
    "print(txt)\n",
    "print('<'+ret1+'>')\n",
    "print(ret1)\n",
    "print('<'+ret2+'>')\n",
    "print(ret2)\n",
    "print('<'+ret3+'>')\n",
    "print(ret3)"
   ]
  },
  {
   "cell_type": "code",
   "execution_count": 40,
   "metadata": {},
   "outputs": [
    {
     "name": "stdout",
     "output_type": "stream",
     "text": [
      "숫자를 입력하세요:\n",
      "+++숫자를 입력하세요~ +++\n"
     ]
    }
   ],
   "source": [
    "numstr = input('숫자를 입력하세요:')\n",
    "try:\n",
    "    num = int(numstr)\n",
    "    print('당신이 입력한 숫자는 정수<%d>입니다.'%num)\n",
    "except:\n",
    "    try:\n",
    "        num=float(numstr)\n",
    "        print('당신이 입력한 숫자는 실수<%f>입니다.'%num)\n",
    "    except:\n",
    "        print(\"+++숫자를 입력하세요~ +++\")"
   ]
  },
  {
   "cell_type": "code",
   "execution_count": 41,
   "metadata": {},
   "outputs": [
    {
     "name": "stdout",
     "output_type": "stream",
     "text": [
      "num1을 문자열로 변환한 값은 \"1234\"입니다.\n",
      "num2를 문자열로 변환한 값은 \"3.14\"입니다.\n"
     ]
    }
   ],
   "source": [
    "num1 = 1234\n",
    "num2 = 3.14\n",
    "\n",
    "numstr1 = str(num1)\n",
    "numstr2 = str(num2)\n",
    "print('num1을 문자열로 변환한 값은 \"%s\"입니다.' %numstr1)\n",
    "print('num2를 문자열로 변환한 값은 \"%s\"입니다.' %numstr2)"
   ]
  },
  {
   "cell_type": "code",
   "execution_count": 42,
   "metadata": {},
   "outputs": [
    {
     "name": "stdout",
     "output_type": "stream",
     "text": [
      "3\n",
      "2\n",
      "8\n"
     ]
    }
   ],
   "source": [
    "txt = \"A lot of things occur each day, every day.\"\n",
    "word_count1 = txt.count('o')\n",
    "word_count2 = txt.count('day')\n",
    "word_count3 = txt.count(' ')\n",
    "print(word_count1)\n",
    "print(word_count2)\n",
    "print(word_count3)"
   ]
  },
  {
   "cell_type": "code",
   "execution_count": 43,
   "metadata": {},
   "outputs": [
    {
     "name": "stdout",
     "output_type": "stream",
     "text": [
      "22\n",
      "27\n",
      "38\n"
     ]
    }
   ],
   "source": [
    "txt = 'A lot of things occur each day, every day.'\n",
    "offset1 = txt.find('e')\n",
    "offset2 = txt.find('day')\n",
    "offset3 = txt.find('day',30)\n",
    "print(offset1)\n",
    "print(offset2)\n",
    "print(offset3)"
   ]
  },
  {
   "cell_type": "code",
   "execution_count": 44,
   "metadata": {},
   "outputs": [
    {
     "name": "stdout",
     "output_type": "stream",
     "text": [
      "['http:', '', 'www.naver.com', 'news', 'today=20160831']\n",
      "name -> 홍길동\n",
      "age -> 17\n",
      "sex -> 남자\n",
      "nation -> 조선\n"
     ]
    }
   ],
   "source": [
    "url = 'http://www.naver.com/news/today=20160831'\n",
    "log='name:홍길동 age:17 sex:남자 nation:조선'\n",
    "\n",
    "ret1 = url.split('/')\n",
    "print(ret1)\n",
    "\n",
    "ret2 = log.split()\n",
    "for data in ret2:\n",
    "    d1, d2 = data.split(':')\n",
    "    print('%s -> %s' %(d1,d2))"
   ]
  },
  {
   "cell_type": "code",
   "execution_count": 45,
   "metadata": {},
   "outputs": [
    {
     "name": "stdout",
     "output_type": "stream",
     "text": [
      "2016/08/26 10:12:11;200;OK;이 또한 지나가리라\n"
     ]
    }
   ],
   "source": [
    "loglist = ['2016/08/26 10:12:11', '200', 'OK', '이 또한 지나가리라']\n",
    "bond = ';'\n",
    "log = bond.join(loglist)\n",
    "print(log)"
   ]
  },
  {
   "cell_type": "code",
   "execution_count": 46,
   "metadata": {},
   "outputs": [
    {
     "name": "stdout",
     "output_type": "stream",
     "text": [
      "My password is 0234\n",
      "My password is python234\n",
      "항상 많은 일들이 일어납니다.\n",
      "항상 많은 사건들이 사건어납니다.\n"
     ]
    }
   ],
   "source": [
    "txt = 'My password is 1234'\n",
    "ret1 = txt.replace('1','0')\n",
    "ret2 = txt.replace('1','python')\n",
    "print(ret1)\n",
    "print(ret2)\n",
    "\n",
    "txt = '매일 많은 일들이 일어납니다.'\n",
    "ret3 = txt.replace('매일','항상')\n",
    "ret4 = ret3.replace('일','사건')\n",
    "print(ret3)\n",
    "print(ret4)"
   ]
  },
  {
   "cell_type": "code",
   "execution_count": 47,
   "metadata": {},
   "outputs": [
    {
     "name": "stdout",
     "output_type": "stream",
     "text": [
      "I love python\n",
      "b'I love python'\n",
      "True\n",
      "False\n"
     ]
    }
   ],
   "source": [
    "u_txt = 'I love python'\n",
    "b_txt = u_txt.encode()\n",
    "print(u_txt)\n",
    "print(b_txt)\n",
    "\n",
    "ret1 = 'I' == u_txt[0]\n",
    "ret2 = 'I' == b_txt[0]\n",
    "print(ret1)\n",
    "print(ret2)"
   ]
  },
  {
   "cell_type": "code",
   "execution_count": 48,
   "metadata": {},
   "outputs": [
    {
     "name": "stdout",
     "output_type": "stream",
     "text": [
      "A lot of things occur each day.\n"
     ]
    }
   ],
   "source": [
    "b_txt = b'A lot of things occur each day.'\n",
    "u_txt = b_txt.decode()\n",
    "print(u_txt)"
   ]
  },
  {
   "cell_type": "code",
   "execution_count": 81,
   "metadata": {},
   "outputs": [
    {
     "name": "stdout",
     "output_type": "stream",
     "text": [
      "정렬할 문자열을 입력하세요:문자열\n",
      "['문', '열', '자']\n",
      "['자', '열', '문']\n"
     ]
    }
   ],
   "source": [
    "strdata = input('정렬할 문자열을 입력하세요:')\n",
    "ret1 = sorted(strdata)\n",
    "ret2 = sorted(strdata, reverse=True)\n",
    "print(ret1)\n",
    "print(ret2)\n",
    "ret1 = \"\".join(sorted(ret1))\n",
    "ret2 = \"\".join(ret2)"
   ]
  },
  {
   "cell_type": "code",
   "execution_count": 69,
   "metadata": {},
   "outputs": [
    {
     "name": "stdout",
     "output_type": "stream",
     "text": [
      "[0, 1, 2, 3, 4, 5, 6, 7, 8, 9]\n",
      "[10, 11, 12, 13, 14, 15, 16, 17, 18, 19]\n"
     ]
    }
   ],
   "source": [
    "range1 = range(10)\n",
    "range2 = range(10, 20)\n",
    "print(list(range1))\n",
    "print(list(range2))"
   ]
  },
  {
   "cell_type": "code",
   "execution_count": 71,
   "metadata": {},
   "outputs": [
    {
     "name": "stdout",
     "output_type": "stream",
     "text": [
      "55\n"
     ]
    }
   ],
   "source": [
    "ret = 0\n",
    "for i in range(10):\n",
    "    ret += (i+1)\n",
    "print(ret)"
   ]
  },
  {
   "cell_type": "code",
   "execution_count": 72,
   "metadata": {},
   "outputs": [
    {
     "name": "stdout",
     "output_type": "stream",
     "text": [
      "2\n",
      "b\n",
      "5\n"
     ]
    }
   ],
   "source": [
    "listdata = [1,2,'a','b','c',[4,5,6]]\n",
    "val1 = listdata[1]\n",
    "val2 = listdata[3]\n",
    "val3 = listdata[5][1]\n",
    "print(val1)\n",
    "print(val2)\n",
    "print(val3)"
   ]
  },
  {
   "cell_type": "code",
   "execution_count": 74,
   "metadata": {},
   "outputs": [
    {
     "name": "stdout",
     "output_type": "stream",
     "text": [
      "지구은(는) 태양계에서 3번째에 위치하고 있습니다.\n",
      "지구은(는) 태양계에서 9번째에 위치하고 있습니다.\n"
     ]
    }
   ],
   "source": [
    "solarsys = ['태양', '수성', '금성', '지구', '화성', '목성', '토성', '천왕성', '혜왕성', '지구']\n",
    "planet = '지구'\n",
    "pos = solarsys.index(planet)\n",
    "print('%s은(는) 태양계에서 %d번째에 위치하고 있습니다.' %(planet, pos))\n",
    "pos = solarsys.index(planet, 5)\n",
    "print('%s은(는) 태양계에서 %d번째에 위치하고 있습니다.' %(planet, pos))"
   ]
  },
  {
   "cell_type": "code",
   "execution_count": 75,
   "metadata": {},
   "outputs": [
    {
     "name": "stdout",
     "output_type": "stream",
     "text": [
      "['태양', '수성', '금성', '지구', 'Mars', '목성', '토성', '천왕성', '해왕성']\n"
     ]
    }
   ],
   "source": [
    "solarsys = ['태양','수성','금성','지구','화성','목성','토성','천왕성','해왕성']\n",
    "planet = '화성'\n",
    "pos = solarsys.index(planet)\n",
    "solarsys[pos] = 'Mars'\n",
    "print(solarsys)"
   ]
  },
  {
   "cell_type": "code",
   "execution_count": 83,
   "metadata": {},
   "outputs": [
    {
     "name": "stdout",
     "output_type": "stream",
     "text": [
      "태양계의 암석형 행성:['수성', '금성', '지구']\n",
      "태양계의 가스형 생성:['화성', '목성', '토성', '천왕성', '해왕성']\n"
     ]
    }
   ],
   "source": [
    "solarsys = ['태양','수성','금성','지구','화성','목성','토성','천왕성','해왕성']\n",
    "rock_planets = solarsys[1:4]\n",
    "gas_planets = solarsys[4:]\n",
    "print('태양계의 암석형 행성:', end=''); print(rock_planets)\n",
    "print('태양계의 가스형 생성:', end=''); print(gas_planets)"
   ]
  },
  {
   "cell_type": "code",
   "execution_count": 84,
   "metadata": {},
   "outputs": [
    {
     "name": "stdout",
     "output_type": "stream",
     "text": [
      "[2, 4, 6, 8, 10, 12, 14, 16, 18, 20]\n"
     ]
    }
   ],
   "source": [
    "listdata = list(range(1,21))\n",
    "evenlist = listdata[1::2]\n",
    "print(evenlist)"
   ]
  },
  {
   "cell_type": "code",
   "execution_count": 85,
   "metadata": {},
   "outputs": [
    {
     "name": "stdout",
     "output_type": "stream",
     "text": [
      "[1, 3, 5, 7, 9, 11, 13, 15, 17, 19]\n"
     ]
    }
   ],
   "source": [
    "oddlist = listdata[0::2]\n",
    "print(oddlist)"
   ]
  },
  {
   "cell_type": "code",
   "execution_count": 86,
   "metadata": {},
   "outputs": [
    {
     "name": "stdout",
     "output_type": "stream",
     "text": [
      "[4, 3, 2, 1, 0]\n"
     ]
    }
   ],
   "source": [
    "listdata = list(range(5))\n",
    "listdata.reverse()\n",
    "print(listdata)"
   ]
  },
  {
   "cell_type": "code",
   "execution_count": 87,
   "metadata": {},
   "outputs": [
    {
     "name": "stdout",
     "output_type": "stream",
     "text": [
      "원본 리스트[0, 1, 2, 3, 4]\n",
      "역순 리스트[4, 3, 2, 1, 0]\n",
      "슬라이싱 이용[4, 3, 2, 1, 0]\n"
     ]
    }
   ],
   "source": [
    "listdata = list(range(5))\n",
    "ret1 = reversed(listdata)\n",
    "print('원본 리스트', end=''); print(listdata);\n",
    "print('역순 리스트', end=''); print(list(ret1))\n",
    "\n",
    "ret2 = listdata[::-1]\n",
    "print('슬라이싱 이용', end='');print(ret2)"
   ]
  },
  {
   "cell_type": "code",
   "execution_count": 91,
   "metadata": {},
   "outputs": [
    {
     "name": "stdout",
     "output_type": "stream",
     "text": [
      "['a', 'b', 'c', 'd', 'e', 'f', 'g', 'h', 'i', 'j']\n",
      "['f', 'g', 'h', 'i', 'j', 'a', 'b', 'c', 'd', 'e']\n"
     ]
    }
   ],
   "source": [
    "listdata1 = ['a','b','c','d','e']\n",
    "listdata2 = ['f','g','h','i','j']\n",
    "listdata3 = listdata1+listdata2\n",
    "listdata4 = listdata2+listdata1\n",
    "print(listdata3)\n",
    "print(listdata4)"
   ]
  },
  {
   "cell_type": "code",
   "execution_count": 92,
   "metadata": {},
   "outputs": [
    {
     "name": "stdout",
     "output_type": "stream",
     "text": [
      "[0, 1, 2, 0, 1, 2, 0, 1, 2]\n"
     ]
    }
   ],
   "source": [
    "listdata = list(range(3))\n",
    "ret = listdata*3\n",
    "print(ret)"
   ]
  },
  {
   "cell_type": "code",
   "execution_count": 94,
   "metadata": {},
   "outputs": [
    {
     "name": "stdout",
     "output_type": "stream",
     "text": [
      "리스트에 추가할 값을 입력하세요[1/3]:허인행\n",
      "['허인행']\n",
      "리스트에 추가할 값을 입력하세요[2/3]:반충기\n",
      "['허인행', '반충기']\n",
      "리스트에 추가할 값을 입력하세요[3/3]:허용\n",
      "['허인행', '반충기', '허용']\n"
     ]
    }
   ],
   "source": [
    "listdata = []\n",
    "for i in range(3):\n",
    "    txt = input('리스트에 추가할 값을 입력하세요[%d/3]:' %(i+1))\n",
    "    listdata.append(txt)\n",
    "    print(listdata)"
   ]
  },
  {
   "cell_type": "code",
   "execution_count": 99,
   "metadata": {},
   "outputs": [
    {
     "name": "stdout",
     "output_type": "stream",
     "text": [
      "5\n",
      "['태양', '수성', '금성', '지구', '화성', '소행성', '목성', '토성', '천왕성', '해왕성']\n"
     ]
    }
   ],
   "source": [
    "solarsys = ['태양','수성','금성','지구','화성','목성','토성','천왕성','해왕성']\n",
    "pos = solarsys.index('목성')\n",
    "print(pos)\n",
    "solarsys.insert(pos, '소행성')\n",
    "print(solarsys)"
   ]
  },
  {
   "cell_type": "code",
   "execution_count": 106,
   "metadata": {},
   "outputs": [
    {
     "name": "stdout",
     "output_type": "stream",
     "text": [
      "['수성', '금성', '지구', '화성', '목성', '토성', '천왕성', '해왕성']\n",
      "['수성', '금성', '지구', '화성', '목성', '토성', '해왕성']\n"
     ]
    }
   ],
   "source": [
    "solarsys = ['태양','수성','금성','지구','화성','목성','토성','천왕성','해왕성']\n",
    "del solarsys[0]\n",
    "print(solarsys)\n",
    "del solarsys[-2]\n",
    "print(solarsys)"
   ]
  },
  {
   "cell_type": "code",
   "execution_count": 110,
   "metadata": {},
   "outputs": [
    {
     "name": "stdout",
     "output_type": "stream",
     "text": [
      "['수성', '금성', '지구', '화성', '목성', '토성', '천왕성', '해왕성']\n"
     ]
    }
   ],
   "source": [
    "solarsys = ['태양','수성','금성','지구','화성','목성','토성','천왕성','해왕성']\n",
    "solarsys.remove('태양')\n",
    "print(solarsys)"
   ]
  },
  {
   "cell_type": "code",
   "execution_count": 113,
   "metadata": {},
   "outputs": [
    {
     "name": "stdout",
     "output_type": "stream",
     "text": [
      "['태양', '지구', '화성', '목성', '토성', '천왕성', '해왕성']\n"
     ]
    }
   ],
   "source": [
    "solarsys = ['태양','수성','금성','지구','화성','목성','토성','천왕성','해왕성']\n",
    "del solarsys[1:3]\n",
    "print(solarsys)"
   ]
  },
  {
   "cell_type": "code",
   "execution_count": 114,
   "metadata": {},
   "outputs": [
    {
     "name": "stdout",
     "output_type": "stream",
     "text": [
      "15\n"
     ]
    }
   ],
   "source": [
    "listdata = [2,2,1,3,8,5,7,6,3,6,2,3,9,4,4]\n",
    "listsize = len(listdata)\n",
    "print(listsize)"
   ]
  },
  {
   "cell_type": "code",
   "execution_count": 115,
   "metadata": {},
   "outputs": [
    {
     "name": "stdout",
     "output_type": "stream",
     "text": [
      "3\n",
      "1\n"
     ]
    }
   ],
   "source": [
    "listdata = [2,2,1,3,8,5,7,6,3,6,2,3,9,4,4]\n",
    "c1 = listdata.count(2)\n",
    "c2 = listdata.count(7)\n",
    "print(c1)\n",
    "print(c2)"
   ]
  },
  {
   "cell_type": "code",
   "execution_count": 124,
   "metadata": {},
   "outputs": [
    {
     "ename": "NameError",
     "evalue": "name 'listdata' is not defined",
     "output_type": "error",
     "traceback": [
      "\u001b[0;31m---------------------------------------------------------------------------\u001b[0m",
      "\u001b[0;31mNameError\u001b[0m                                 Traceback (most recent call last)",
      "\u001b[0;32m<ipython-input-124-7ea48184beff>\u001b[0m in \u001b[0;36m<module>\u001b[0;34m\u001b[0m\n\u001b[1;32m      1\u001b[0m \u001b[0mlistdata\u001b[0m \u001b[0;34m=\u001b[0m \u001b[0;34m[\u001b[0m\u001b[0;36m2\u001b[0m\u001b[0;34m,\u001b[0m\u001b[0;36m2\u001b[0m\u001b[0;34m,\u001b[0m\u001b[0;36m1\u001b[0m\u001b[0;34m,\u001b[0m\u001b[0;36m3\u001b[0m\u001b[0;34m,\u001b[0m\u001b[0;36m8\u001b[0m\u001b[0;34m,\u001b[0m\u001b[0;36m5\u001b[0m\u001b[0;34m,\u001b[0m\u001b[0;36m7\u001b[0m\u001b[0;34m,\u001b[0m\u001b[0;36m6\u001b[0m\u001b[0;34m,\u001b[0m\u001b[0;36m3\u001b[0m\u001b[0;34m,\u001b[0m\u001b[0;36m6\u001b[0m\u001b[0;34m,\u001b[0m\u001b[0;36m2\u001b[0m\u001b[0;34m,\u001b[0m\u001b[0;36m3\u001b[0m\u001b[0;34m,\u001b[0m\u001b[0;36m9\u001b[0m\u001b[0;34m,\u001b[0m\u001b[0;36m4\u001b[0m\u001b[0;34m,\u001b[0m\u001b[0;36m4\u001b[0m\u001b[0;34m]\u001b[0m\u001b[0;34m\u001b[0m\u001b[0;34m\u001b[0m\u001b[0m\n\u001b[1;32m      2\u001b[0m \u001b[0;32mdel\u001b[0m \u001b[0mlistdata\u001b[0m\u001b[0;34m\u001b[0m\u001b[0;34m\u001b[0m\u001b[0m\n\u001b[0;32m----> 3\u001b[0;31m \u001b[0mprint\u001b[0m\u001b[0;34m(\u001b[0m\u001b[0mlistdata\u001b[0m\u001b[0;34m)\u001b[0m\u001b[0;34m\u001b[0m\u001b[0;34m\u001b[0m\u001b[0m\n\u001b[0m",
      "\u001b[0;31mNameError\u001b[0m: name 'listdata' is not defined"
     ]
    }
   ],
   "source": [
    "listdata = [2,2,1,3,8,5,7,6,3,6,2,3,9,4,4]\n",
    "del listdata\n",
    "print(listdata)"
   ]
  },
  {
   "cell_type": "code",
   "execution_count": 128,
   "metadata": {},
   "outputs": [
    {
     "name": "stdout",
     "output_type": "stream",
     "text": [
      "['Tom', 'Sams', 'Michale', 'Mary', 'Kelly', 'Bob', 'Aimy']\n"
     ]
    }
   ],
   "source": [
    "namelist = ['Mary','Sams','Aimy','Tom','Michale','Bob','Kelly']\n",
    "namelist.sort()        # 알파벳순 정렬\n",
    "namelist.sort(reverse=True) # 알파벳순 역순 정렬\n",
    "print(namelist)"
   ]
  },
  {
   "cell_type": "code",
   "execution_count": 129,
   "metadata": {},
   "outputs": [
    {
     "name": "stdout",
     "output_type": "stream",
     "text": [
      "['Mary', 'Sams', 'Aimy', 'Tom', 'Michale', 'Bob', 'Kelly']\n",
      "['Aimy', 'Bob', 'Kelly', 'Mary', 'Michale', 'Sams', 'Tom']\n",
      "['Tom', 'Sams', 'Michale', 'Mary', 'Kelly', 'Bob', 'Aimy']\n"
     ]
    }
   ],
   "source": [
    "namelist = ['Mary','Sams','Aimy','Tom','Michale','Bob','Kelly']\n",
    "ret1 = sorted(namelist)\n",
    "ret2 = sorted(namelist, reverse=True)\n",
    "print(namelist)\n",
    "print(ret1)\n",
    "print(ret2)"
   ]
  },
  {
   "cell_type": "code",
   "execution_count": 138,
   "metadata": {},
   "outputs": [
    {
     "name": "stdout",
     "output_type": "stream",
     "text": [
      "[4, 6, 10, 8, 7, 1, 2, 9, 3, 5]\n",
      "[10, 7, 2, 8, 9, 6, 1, 3, 4, 5]\n",
      "[2, 4, 1, 6, 5, 8, 3, 9, 10, 7]\n"
     ]
    }
   ],
   "source": [
    "from random import shuffle\n",
    "\n",
    "listdata = list(range(1,11))\n",
    "for i in range(3):\n",
    "    shuffle(listdata)\n",
    "    print(listdata)"
   ]
  },
  {
   "cell_type": "code",
   "execution_count": 143,
   "metadata": {},
   "outputs": [
    {
     "name": "stdout",
     "output_type": "stream",
     "text": [
      "[(0, '태양'), (1, '수성'), (2, '금성'), (3, '지구'), (4, '화성'), (5, '목성'), (6, '토성'), (7, '천왕성'), (8, '해왕성')]\n",
      "태양계의 0번째 천체: 태양\n",
      "태양계의 1번째 천체: 수성\n",
      "태양계의 2번째 천체: 금성\n",
      "태양계의 3번째 천체: 지구\n",
      "태양계의 4번째 천체: 화성\n",
      "태양계의 5번째 천체: 목성\n",
      "태양계의 6번째 천체: 토성\n",
      "태양계의 7번째 천체: 천왕성\n",
      "태양계의 8번째 천체: 해왕성\n"
     ]
    }
   ],
   "source": [
    "solarsys = ['태양','수성','금성','지구','화성','목성','토성','천왕성','해왕성']\n",
    "ret = list(enumerate(solarsys))\n",
    "print(ret)\n",
    "\n",
    "for i, body in enumerate(solarsys):\n",
    "    print('태양계의 %d번째 천체: %s' %(i,body))"
   ]
  },
  {
   "cell_type": "code",
   "execution_count": 144,
   "metadata": {},
   "outputs": [
    {
     "name": "stdout",
     "output_type": "stream",
     "text": [
      "65\n"
     ]
    }
   ],
   "source": [
    "listdata = [2,2,1,3,8,5,7,6,3,6,2,3,9,4,4]\n",
    "ret = sum(listdata)\n",
    "print(ret)"
   ]
  },
  {
   "cell_type": "code",
   "execution_count": 146,
   "metadata": {},
   "outputs": [
    {
     "name": "stdout",
     "output_type": "stream",
     "text": [
      "False\n",
      "True\n",
      "True\n",
      "True\n",
      "False\n",
      "False\n"
     ]
    }
   ],
   "source": [
    "listdata1 = [0,1,2,3,4]\n",
    "listdata2 = [True, True, True]\n",
    "listdata3 = ['', [], (), {}, None, False]\n",
    "print(all(listdata1))\n",
    "print(any(listdata1))\n",
    "print(all(listdata2))\n",
    "print(any(listdata2))\n",
    "print(all(listdata3))\n",
    "print(any(listdata3))"
   ]
  },
  {
   "cell_type": "code",
   "execution_count": 149,
   "metadata": {},
   "outputs": [
    {
     "name": "stdout",
     "output_type": "stream",
     "text": [
      "{'태양': 'Sun', '수성': 'Mercury', '금성': 'Venus', '지구': 'Earth', '화성': 'Mars', '목성': 'Jupiter', '토성': 'Saturn', '천왕성': 'Uranus', '해왕성': 'Nepture'}\n"
     ]
    }
   ],
   "source": [
    "solar1=['태양','수성','금성','지구','화성','목성','토성','천왕성','해왕성']\n",
    "solar2 = ['Sun','Mercury','Venus','Earth','Mars','Jupiter','Saturn','Uranus','Nepture']\n",
    "solardict = {}\n",
    "for i, k in enumerate(solar1):\n",
    "    val = solar2[i]\n",
    "    solardict[k] = val\n",
    "    \n",
    "print(solardict)"
   ]
  },
  {
   "cell_type": "code",
   "execution_count": 153,
   "metadata": {},
   "outputs": [
    {
     "name": "stdout",
     "output_type": "stream",
     "text": [
      "{'Mary': 10999, 'Sams': 2111, 'Aimy': 10000, 'Tom': 20245, 'Michale': 27115, 'Bob': 5887, 'Kelly': 7855}\n"
     ]
    }
   ],
   "source": [
    "names = {'Mary':10999, 'Sams':2111, 'Aimy':9778, 'Tom':20245, 'Michale':27115, 'Bob':5887, 'Kelly':7855}\n",
    "names['Aimy'] = 10000\n",
    "print(names)"
   ]
  },
  {
   "cell_type": "code",
   "execution_count": 154,
   "metadata": {},
   "outputs": [
    {
     "name": "stdout",
     "output_type": "stream",
     "text": [
      "{'Mary': 10999, 'Aimy': 9778, 'Tom': 20245, 'Michale': 27115, 'Bob': 5887, 'Kelly': 7855}\n"
     ]
    }
   ],
   "source": [
    "names = {'Mary':10999, 'Sams':2111, 'Aimy':9778, 'Tom':20245, 'Michale':27115, 'Bob':5887, 'Kelly':7855}\n",
    "del names['Sams']\n",
    "print(names)"
   ]
  },
  {
   "cell_type": "code",
   "execution_count": 155,
   "metadata": {},
   "outputs": [
    {
     "name": "stdout",
     "output_type": "stream",
     "text": [
      "{}\n"
     ]
    }
   ],
   "source": [
    "names = {'Mary':10999, 'Sams':2111, 'Aimy':9778, 'Tom':20245, 'Michale':27115, 'Bob':5887, 'Kelly':7855}\n",
    "names.clear()\n",
    "print(names)"
   ]
  },
  {
   "cell_type": "code",
   "execution_count": 202,
   "metadata": {},
   "outputs": [
    {
     "name": "stdout",
     "output_type": "stream",
     "text": [
      "dict_keys(['Mary', 'Sams', 'Aimy', 'Tom', 'Michale', 'Bob', 'Kelly'])\n",
      "Key : Mary \t Value : 10999\n",
      "Key : Sams \t Value : 2111\n",
      "Key : Aimy \t Value : 9778\n",
      "Key : Tom \t Value : 20245\n",
      "Key : Michale \t Value : 27115\n",
      "Key : Bob \t Value : 5887\n",
      "Key : Kelly \t Value : 7855\n"
     ]
    }
   ],
   "source": [
    "names = {'Mary':10999, 'Sams':2111, 'Aimy':9778, 'Tom':20245, 'Michale':27115, 'Bob':5887, 'Kelly':7855}\n",
    "ks = names.keys()\n",
    "print(ks)\n",
    "\n",
    "for k in ks:\n",
    "    print('Key : %s \\t Value : %d' %(k, names[k]))"
   ]
  },
  {
   "cell_type": "code",
   "execution_count": 183,
   "metadata": {
    "scrolled": true
   },
   "outputs": [
    {
     "name": "stdout",
     "output_type": "stream",
     "text": [
      "dict_values([10999, 2111, 9778, 20245, 27115, 5887, 7855])\n",
      "[10999, 2111, 9778, 20245, 27115, 5887, 7855]\n",
      "출생아 수 총계: 83990\n"
     ]
    }
   ],
   "source": [
    "names = {'Mary':10999, 'Sams':2111, 'Aimy':9778, 'Tom':20245, 'Michale':27115, 'Bob':5887, 'Kelly':7855}\n",
    "vals = names.values()\n",
    "print(vals)\n",
    "\n",
    "vals_list = list(vals)\n",
    "print(vals_list)\n",
    "ret = sum(vals_list)\n",
    "print('출생아 수 총계: %d' %ret)"
   ]
  },
  {
   "cell_type": "code",
   "execution_count": 184,
   "metadata": {},
   "outputs": [
    {
     "name": "stdout",
     "output_type": "stream",
     "text": [
      "dict_items([('Mary', 10999), ('Sams', 2111), ('Aimy', 9778), ('Tom', 20245), ('Michale', 27115), ('Bob', 5887), ('Kelly', 7855)])\n",
      "('Mary', 10999)\n",
      "('Sams', 2111)\n",
      "('Aimy', 9778)\n",
      "('Tom', 20245)\n",
      "('Michale', 27115)\n",
      "('Bob', 5887)\n",
      "('Kelly', 7855)\n"
     ]
    }
   ],
   "source": [
    "names = {'Mary':10999, 'Sams':2111, 'Aimy':9778, 'Tom':20245, 'Michale':27115, 'Bob':5887, 'Kelly':7855}\n",
    "items = names.items()\n",
    "print(items)\n",
    "\n",
    "for item in items:\n",
    "    print(item)"
   ]
  },
  {
   "cell_type": "code",
   "execution_count": 205,
   "metadata": {
    "scrolled": true
   },
   "outputs": [
    {
     "name": "stdout",
     "output_type": "stream",
     "text": [
      "이름을 입력하세요:Mary\n",
      "이름이 <Mary>인 출생아 수는 <10999>명입니다.\n"
     ]
    }
   ],
   "source": [
    "names = {'Mary':10999, 'Sams':2111, 'Aimy':9778, 'Tom':20245, 'Michale':27115, 'Bob':5887, 'Kelly':7855}\n",
    "k = input('이름을 입력하세요:')\n",
    "\n",
    "\n",
    "if k in names:\n",
    "    print('이름이 <%s>인 출생아 수는 <%d>명입니다.' %(k, names[k]))\n",
    "else:\n",
    "    print('자료에 <%s>인 이름이 존재하지 않습니다.' %k)"
   ]
  },
  {
   "cell_type": "code",
   "execution_count": 200,
   "metadata": {
    "scrolled": true
   },
   "outputs": [
    {
     "name": "stdout",
     "output_type": "stream",
     "text": [
      "이름을 입력하세요:asd\n"
     ]
    }
   ],
   "source": [
    "names = {'Mary':10999, 'Sams':2111, 'Aimy':9778, 'Tom':20245, 'Michale':27115, 'Bob':5887, 'Kelly':7855}\n",
    "k = input('이름을 입력하세요:')\n",
    "\n",
    "\n",
    "if k in names:\n",
    "    print(k)\n",
    "    print(names[k])"
   ]
  },
  {
   "cell_type": "code",
   "execution_count": null,
   "metadata": {},
   "outputs": [],
   "source": []
  }
 ],
 "metadata": {
  "kernelspec": {
   "display_name": "Python 3.8.2 64-bit",
   "language": "python",
   "name": "python38264bit4094e939a8b946f98cca8c730a8cf25e"
  },
  "language_info": {
   "codemirror_mode": {
    "name": "ipython",
    "version": 3
   },
   "file_extension": ".py",
   "mimetype": "text/x-python",
   "name": "python",
   "nbconvert_exporter": "python",
   "pygments_lexer": "ipython3",
   "version": "3.8.3"
  }
 },
 "nbformat": 4,
 "nbformat_minor": 4
}
