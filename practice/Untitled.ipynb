{
 "cells": [
  {
   "cell_type": "code",
   "execution_count": 187,
   "metadata": {
    "scrolled": true
   },
   "outputs": [
    {
     "name": "stdout",
     "output_type": "stream",
     "text": [
      "안녕하세요\n"
     ]
    }
   ],
   "source": [
    "print('안녕하세요')"
   ]
  },
  {
   "cell_type": "code",
   "execution_count": 188,
   "metadata": {},
   "outputs": [
    {
     "name": "stdout",
     "output_type": "stream",
     "text": [
      "안녕하세요\n",
      "3\n"
     ]
    }
   ],
   "source": [
    "print('안녕하세요')\n",
    "a=1\n",
    "b=2\n",
    "print(a+b)"
   ]
  },
  {
   "cell_type": "code",
   "execution_count": 189,
   "metadata": {},
   "outputs": [],
   "source": [
    "_myname = 'samsjang'\n",
    "my_name = '홍길동'\n",
    "MyName2 = 'Hong gil-dong'\n",
    "counter = 1\n",
    "Counter = 2"
   ]
  },
  {
   "cell_type": "code",
   "execution_count": 190,
   "metadata": {},
   "outputs": [
    {
     "name": "stdout",
     "output_type": "stream",
     "text": [
      "<class 'int'>\n",
      "<class 'float'>\n",
      "<class 'bool'>\n",
      "<class 'str'>\n",
      "<class 'str'>\n"
     ]
    }
   ],
   "source": [
    "number1 = 1\n",
    "pi = 3.14\n",
    "flag = True\n",
    "char = 'x'\n",
    "chars = 'I love Python'\n",
    "print(type(number1))\n",
    "print(type(pi))\n",
    "print(type(flag))\n",
    "print(type(char))\n",
    "print(type(chars))"
   ]
  },
  {
   "cell_type": "code",
   "execution_count": 191,
   "metadata": {},
   "outputs": [
    {
     "name": "stdout",
     "output_type": "stream",
     "text": [
      "8\n"
     ]
    }
   ],
   "source": [
    "# 삼중 따옴표로 특정 영역 주석 처리 예시\n",
    "\n",
    "\"\"\"\n",
    "a=1\n",
    "b=5\n",
    "print(a+b)\n",
    "\"\"\"\n",
    "a=2\n",
    "b=6\n",
    "print(a+b)"
   ]
  },
  {
   "cell_type": "code",
   "execution_count": 192,
   "metadata": {},
   "outputs": [],
   "source": [
    "int_data = 1                                                    \n",
    "float_data = 3.14\n",
    "complex_data = 1+5j                         # 파이썬에서 허수부는 j로 표현함\n",
    "str_data1 = 'I love Python'\n",
    "str_data2 = '반갑습니다'\n",
    "list_data = [1,2,3]\n",
    "tuple_data = (1,2,3)\n",
    "dict_data = {0:'False', 1:'True'}"
   ]
  },
  {
   "cell_type": "code",
   "execution_count": 193,
   "metadata": {},
   "outputs": [
    {
     "name": "stdout",
     "output_type": "stream",
     "text": [
      "200\tI love Python\t['a', 'b', 'c']\ta\t{'a': 97, 'b': 98}\t97\t"
     ]
    }
   ],
   "source": [
    "a = 200\n",
    "msg = 'I love Python'\n",
    "list_data = ['a','b','c']\n",
    "dict_data = {'a':97, 'b':98}\n",
    "print(a, end=\"\\t\")\n",
    "print(msg, end=\"\\t\")\n",
    "print(list_data, end=\"\\t\")\n",
    "print(list_data[0], end=\"\\t\")\n",
    "print(dict_data, end=\"\\t\")\n",
    "print(dict_data['a'], end=\"\\t\")"
   ]
  },
  {
   "cell_type": "code",
   "execution_count": 194,
   "metadata": {},
   "outputs": [
    {
     "name": "stdout",
     "output_type": "stream",
     "text": [
      "a가 listdata에 있습니다.\n",
      "['a', 'b', 'c']\n"
     ]
    }
   ],
   "source": [
    "listdata = ['a','b','c']\n",
    "if 'a' in listdata:\n",
    "    print('a가 listdata에 있습니다.')\n",
    "    print(listdata)\n",
    "else:\n",
    "    print('a가 listdata에 존재하지 않습니다.')"
   ]
  },
  {
   "cell_type": "code",
   "execution_count": 195,
   "metadata": {},
   "outputs": [
    {
     "name": "stdout",
     "output_type": "stream",
     "text": [
      "x가 y보다 작습니다.\n"
     ]
    }
   ],
   "source": [
    "x = 1\n",
    "y = 2\n",
    "\n",
    "if x >= y:\n",
    "    print('x가 y보다 크거나 같습니다.')\n",
    "else:\n",
    "    print('x가 y보다 작습니다.')"
   ]
  },
  {
   "cell_type": "code",
   "execution_count": 196,
   "metadata": {},
   "outputs": [
    {
     "name": "stdout",
     "output_type": "stream",
     "text": [
      "x가 y보다 작다\n"
     ]
    }
   ],
   "source": [
    "x = 99\n",
    "y = 100\n",
    "\n",
    "if x >= y:\n",
    "    print('x가 y보다 크거나 같다')\n",
    "else:\n",
    "    print('x가 y보다 작다')"
   ]
  },
  {
   "cell_type": "code",
   "execution_count": 197,
   "metadata": {},
   "outputs": [
    {
     "name": "stdout",
     "output_type": "stream",
     "text": [
      "x가 y보다 크다\n"
     ]
    }
   ],
   "source": [
    "x = 11\n",
    "y = 10\n",
    "\n",
    "if x > y:\n",
    "    print('x가 y보다 크다')\n",
    "elif x < y:\n",
    "    print('x가 y보다 작다')\n",
    "else:\n",
    "    print('x와 y가 같다')"
   ]
  },
  {
   "cell_type": "code",
   "execution_count": 198,
   "metadata": {},
   "outputs": [
    {
     "name": "stdout",
     "output_type": "stream",
     "text": [
      "1\t2\t3\t4\t5\t"
     ]
    }
   ],
   "source": [
    "scope = [1,2,3,4,5]\n",
    "\n",
    "for x in scope:\n",
    "    print(x, end=\"\\t\")"
   ]
  },
  {
   "cell_type": "code",
   "execution_count": 199,
   "metadata": {},
   "outputs": [
    {
     "name": "stdout",
     "output_type": "stream",
     "text": [
      "a\tb\tc\td\te\tf\t"
     ]
    }
   ],
   "source": [
    "str = 'abcdef'\n",
    "for x in str:\n",
    "    print(x, end='\\t')"
   ]
  },
  {
   "cell_type": "code",
   "execution_count": 200,
   "metadata": {},
   "outputs": [
    {
     "name": "stdout",
     "output_type": "stream",
     "text": [
      "1\t2\t3\t4\t5\t"
     ]
    }
   ],
   "source": [
    "list = [1,2,3,4,5]\n",
    "for x in list:\n",
    "    print(x, end='\\t')"
   ]
  },
  {
   "cell_type": "code",
   "execution_count": 201,
   "metadata": {},
   "outputs": [
    {
     "name": "stdout",
     "output_type": "stream",
     "text": [
      "a\tb\tc\t"
     ]
    }
   ],
   "source": [
    "ascii_codes = {'a':97, 'b':98, 'c':99}\n",
    "for x in ascii_codes:\n",
    "    print(x, end='\\t')"
   ]
  },
  {
   "cell_type": "code",
   "execution_count": 202,
   "metadata": {
    "scrolled": true
   },
   "outputs": [
    {
     "name": "stdout",
     "output_type": "stream",
     "text": [
      "0\t1\t2\t3\t4\t5\t6\t7\t8\t9\t"
     ]
    }
   ],
   "source": [
    "for x in range(10):\n",
    "    print(x, end='\\t')"
   ]
  },
  {
   "cell_type": "code",
   "execution_count": 203,
   "metadata": {},
   "outputs": [
    {
     "name": "stdout",
     "output_type": "stream",
     "text": [
      "1\t2\t3\t"
     ]
    }
   ],
   "source": [
    "scope = [1,2,3,4,5]\n",
    "\n",
    "for x in scope:\n",
    "    print(x, end='\\t')\n",
    "    if x < 3:\n",
    "        continue\n",
    "    else:\n",
    "        break"
   ]
  },
  {
   "cell_type": "code",
   "execution_count": 204,
   "metadata": {},
   "outputs": [
    {
     "name": "stdout",
     "output_type": "stream",
     "text": [
      "1\t2\t3\t"
     ]
    }
   ],
   "source": [
    "scope = [1,2,3,4,5]\n",
    "\n",
    "for x in scope:\n",
    "    if x < 4:\n",
    "        print(x, end='\\t')\n",
    "    else:\n",
    "        break\n",
    "    "
   ]
  },
  {
   "cell_type": "code",
   "execution_count": 205,
   "metadata": {
    "scrolled": true
   },
   "outputs": [
    {
     "name": "stdout",
     "output_type": "stream",
     "text": [
      "1\t2\t3\t"
     ]
    }
   ],
   "source": [
    "scope = [1,2,3,4,5]\n",
    "\n",
    "for x in scope:\n",
    "    print(x, end='\\t')\n",
    "    if x >= 3:\n",
    "        break"
   ]
  },
  {
   "cell_type": "code",
   "execution_count": 215,
   "metadata": {},
   "outputs": [
    {
     "name": "stdout",
     "output_type": "stream",
     "text": [
      "1\t2\t3\tPerfect\n"
     ]
    }
   ],
   "source": [
    "scope = [1,2,3,]\n",
    "for x in scope:\n",
    "    print(x, end='\\t')\n",
    "#     break\n",
    "else:\n",
    "    print('Perfect')"
   ]
  },
  {
   "cell_type": "code",
   "execution_count": 217,
   "metadata": {},
   "outputs": [
    {
     "name": "stdout",
     "output_type": "stream",
     "text": [
      "3\n",
      "4\n",
      "5\n",
      "6\n",
      "7\n",
      "8\n"
     ]
    }
   ],
   "source": [
    "x = 0\n",
    "while x < 10:\n",
    "    x = x+1\n",
    "    if x < 3:\n",
    "        continue\n",
    "    print(x)\n",
    "    if x > 7:\n",
    "        break"
   ]
  },
  {
   "cell_type": "code",
   "execution_count": null,
   "metadata": {},
   "outputs": [],
   "source": []
  }
 ],
 "metadata": {
  "kernelspec": {
   "display_name": "Python 3",
   "language": "python",
   "name": "python3"
  },
  "language_info": {
   "codemirror_mode": {
    "name": "ipython",
    "version": 3
   },
   "file_extension": ".py",
   "mimetype": "text/x-python",
   "name": "python",
   "nbconvert_exporter": "python",
   "pygments_lexer": "ipython3",
   "version": "3.7.6"
  }
 },
 "nbformat": 4,
 "nbformat_minor": 4
}
