{
 "cells": [
  {
   "cell_type": "code",
   "execution_count": 94,
   "metadata": {},
   "outputs": [],
   "source": [
    "int_data = 10\n",
    "bin_data = 0b10\n",
    "oct_data = 0o10\n",
    "hex_data = 0x10\n",
    "long_data = 1234567890123456789"
   ]
  },
  {
   "cell_type": "code",
   "execution_count": 95,
   "metadata": {},
   "outputs": [
    {
     "name": "stdout",
     "output_type": "stream",
     "text": [
      "10\n",
      "2\n",
      "8\n",
      "16\n",
      "1234567890123456789\n"
     ]
    }
   ],
   "source": [
    "print(int_data)\n",
    "print(bin_data)\n",
    "print(oct_data)\n",
    "print(hex_data)\n",
    "print(long_data)"
   ]
  },
  {
   "cell_type": "code",
   "execution_count": 96,
   "metadata": {},
   "outputs": [],
   "source": [
    "f1 = 1.0\n",
    "f2 = 3.14\n",
    "f3 = 1.56e3\n",
    "f4 = -0.7e-4"
   ]
  },
  {
   "cell_type": "code",
   "execution_count": 97,
   "metadata": {},
   "outputs": [
    {
     "name": "stdout",
     "output_type": "stream",
     "text": [
      "1.0\n",
      "3.14\n",
      "1560.0\n",
      "-7e-05\n"
     ]
    }
   ],
   "source": [
    "print(f1)\n",
    "print(f2)\n",
    "print(f3)\n",
    "print(f4)"
   ]
  },
  {
   "cell_type": "code",
   "execution_count": 98,
   "metadata": {},
   "outputs": [
    {
     "name": "stdout",
     "output_type": "stream",
     "text": [
      "1.0\n",
      "7.0\n",
      "(2+3j)\n"
     ]
    }
   ],
   "source": [
    "c1 = 1+7j\n",
    "print(c1.real); print(c1.imag)\n",
    "c2 = complex(2,3)\n",
    "print(c2)"
   ]
  },
  {
   "cell_type": "code",
   "execution_count": 99,
   "metadata": {},
   "outputs": [
    {
     "name": "stdout",
     "output_type": "stream",
     "text": [
      "a와 b를 더한 값은3입니다.\n"
     ]
    }
   ],
   "source": [
    "a = 1\n",
    "b = 2\n",
    "ret = a+b\n",
    "print('a와 b를 더한 값은', end='')\n",
    "print(ret, end='')\n",
    "print(\"입니다.\")"
   ]
  },
  {
   "cell_type": "code",
   "execution_count": 100,
   "metadata": {},
   "outputs": [],
   "source": [
    "a = 2\n",
    "b = 4\n",
    "ret1 = a+b\n",
    "ret2 = a-b\n",
    "ret3 = a*b\n",
    "ret4 = a/b\n",
    "ret5 = a**b\n",
    "ret6 = a+a*b/a\n",
    "ret7 = (a+b)*(a-b)\n",
    "ret8 = a*b**a                  # 거듭제곱은 사칙 연산보다 연산 순위가 더 우선합니다."
   ]
  },
  {
   "cell_type": "code",
   "execution_count": 101,
   "metadata": {},
   "outputs": [
    {
     "name": "stdout",
     "output_type": "stream",
     "text": [
      "6\n",
      "-2\n",
      "8\n",
      "0.5\n",
      "16\n",
      "6.0\n",
      "-12\n",
      "32\n"
     ]
    }
   ],
   "source": [
    "print(ret1)\n",
    "print(ret2)\n",
    "print(ret3)\n",
    "print(ret4)\n",
    "print(ret5)\n",
    "print(ret6)\n",
    "print(ret7)\n",
    "print(ret8)"
   ]
  },
  {
   "cell_type": "code",
   "execution_count": 102,
   "metadata": {},
   "outputs": [
    {
     "name": "stdout",
     "output_type": "stream",
     "text": [
      "1\n",
      "-4\n",
      "-8\n",
      "-2.0\n"
     ]
    }
   ],
   "source": [
    "a = 0\n",
    "a += 1\n",
    "print(a)\n",
    "a -= 5\n",
    "print(a)\n",
    "a *= 2\n",
    "print(a)\n",
    "a /= 4\n",
    "print(a)"
   ]
  },
  {
   "cell_type": "code",
   "execution_count": 103,
   "metadata": {},
   "outputs": [
    {
     "name": "stdout",
     "output_type": "stream",
     "text": [
      "True\n",
      "False\n"
     ]
    }
   ],
   "source": [
    "a = True                   # True == 1\n",
    "b = False                 # False == 0\n",
    "print(a == 1)           # True가 출력됨\n",
    "print(b != 0)           # False가 출력됨"
   ]
  },
  {
   "cell_type": "code",
   "execution_count": 104,
   "metadata": {},
   "outputs": [
    {
     "name": "stdout",
     "output_type": "stream",
     "text": [
      "False\n",
      "True\n",
      "False\n",
      "True\n",
      "True\n"
     ]
    }
   ],
   "source": [
    "x = 1; y =2\n",
    "str1 = 'abc';str2='python'\n",
    "print(x==y)\n",
    "print(x != y)\n",
    "print(str1 == str2)\n",
    "print(str2 == 'python')\n",
    "print(str1 < str2)                        # 문자열의 크기 비교는 사전 순서로 비교한다."
   ]
  },
  {
   "cell_type": "code",
   "execution_count": 105,
   "metadata": {},
   "outputs": [
    {
     "name": "stdout",
     "output_type": "stream",
     "text": [
      "False\n",
      "True\n",
      "True\n",
      "False\n",
      "False\n",
      "True\n"
     ]
    }
   ],
   "source": [
    "bool1 = True; bool2 = False; bool3 = True; bool4 = False\n",
    "print(bool1 and bool2)\n",
    "print(bool1 and bool3)\n",
    "print(bool2 or bool3)\n",
    "print(bool2 or bool4)\n",
    "print(not bool1)\n",
    "print(not bool2)"
   ]
  },
  {
   "cell_type": "code",
   "execution_count": 106,
   "metadata": {},
   "outputs": [],
   "source": [
    "strdata = 'abcde'                             # 문자열은 시퀀스 자료형임\n",
    "listdata = [1,[2,3],'안녕']            # 리스트는 시퀀스 자료형임\n",
    "tupledata = (100, 200, 300)      # 튜플은 시퀀스 자료형임"
   ]
  },
  {
   "cell_type": "code",
   "execution_count": 107,
   "metadata": {},
   "outputs": [
    {
     "name": "stdout",
     "output_type": "stream",
     "text": [
      "i\n",
      "!\n",
      "1\n",
      "[1, 2, 3]\n",
      "3\n"
     ]
    }
   ],
   "source": [
    "strdata = 'Time is money!!'\n",
    "listdata = [1,2,[1,2,3]]\n",
    "print(strdata[5])\n",
    "print(strdata[-2])\n",
    "print(listdata[0])\n",
    "print(listdata[-1])\n",
    "print(listdata[2][-1])"
   ]
  },
  {
   "cell_type": "code",
   "execution_count": 108,
   "metadata": {},
   "outputs": [
    {
     "name": "stdout",
     "output_type": "stream",
     "text": [
      "ime \n",
      "Time is\n",
      "Time is m\n",
      "Time is mone\n",
      "y!!\n",
      "Time is money!!\n",
      "Tm smny!\n"
     ]
    }
   ],
   "source": [
    "strdata = 'Time is money!!'\n",
    "print(strdata[1:5])\n",
    "print(strdata[:7])\n",
    "print(strdata[:9])\n",
    "print(strdata[:-3])\n",
    "print(strdata[-3:])\n",
    "print(strdata[:])\n",
    "print(strdata[::2])"
   ]
  },
  {
   "cell_type": "code",
   "execution_count": 109,
   "metadata": {},
   "outputs": [
    {
     "name": "stdout",
     "output_type": "stream",
     "text": [
      "I lovePython\n",
      "I loveyou\n",
      "[1, 2, 3, 4, 5, 6]\n"
     ]
    }
   ],
   "source": [
    "strdata1 = 'I love'; strdata2='Python'; strdata3 = 'you'\n",
    "listdata1 = [1,2,3]; listdata2 = [4,5,6]\n",
    "print(strdata1 + strdata2)\n",
    "print(strdata1 + strdata3)\n",
    "print(listdata1 + listdata2)"
   ]
  },
  {
   "cell_type": "code",
   "execution_count": 110,
   "metadata": {},
   "outputs": [
    {
     "name": "stdout",
     "output_type": "stream",
     "text": [
      "ARMY들이 외칩니다.BTS!BTS!BTS!\n"
     ]
    }
   ],
   "source": [
    "artist = 'BTS!'\n",
    "fan = 'ARMY'\n",
    "dispdata = fan + '들이 외칩니다.'+artist*3\n",
    "print(dispdata)"
   ]
  },
  {
   "cell_type": "code",
   "execution_count": 111,
   "metadata": {},
   "outputs": [
    {
     "name": "stdout",
     "output_type": "stream",
     "text": [
      "13\n",
      "13\n",
      "5\n",
      "13\n"
     ]
    }
   ],
   "source": [
    "strdata1 = 'I love python'\n",
    "strdata2 = '나는 파이썬을 사랑합니다'\n",
    "listdata = ['a','b','c', strdata1, strdata2]\n",
    "print(len(strdata1))\n",
    "print(len(strdata2))\n",
    "print(len(listdata))\n",
    "print(len(listdata[3]))"
   ]
  },
  {
   "cell_type": "code",
   "execution_count": 112,
   "metadata": {},
   "outputs": [
    {
     "name": "stdout",
     "output_type": "stream",
     "text": [
      "False\n",
      "True\n",
      "True\n",
      "False\n"
     ]
    }
   ],
   "source": [
    "listdata = [1,2,3,4]\n",
    "ret1 = 5 in listdata           # False\n",
    "ret2 = 4 in listdata           # True\n",
    "print(ret1);print(ret2)\n",
    "strdata = 'abcde'\n",
    "ret3 = 'c' in strdata\n",
    "ret4 = 'l' in strdata\n",
    "print(ret3); print(ret4)"
   ]
  },
  {
   "cell_type": "code",
   "execution_count": 113,
   "metadata": {},
   "outputs": [],
   "source": [
    "strdata1 = '나는 파이썬 프로그래머다'\n",
    "strdata2 = 'You are a programmer'\n",
    "strdata3 = \"\"\"I love\n",
    "    python. too!\n",
    "\"\"\"\n",
    "strdata4 = \"My son's name is John\"\n",
    "strdata5 = '문자열 \"abc\"의 길이는 3입니다.'"
   ]
  },
  {
   "cell_type": "code",
   "execution_count": 118,
   "metadata": {},
   "outputs": [
    {
     "name": "stdout",
     "output_type": "stream",
     "text": [
      "나는 자바보다 파이썬에 더 익숙합니다.\n",
      "파이썬은 자바보다 10배 더 쉽습니다.\n",
      "5 + 10 = 15\n",
      "작년 세계 경제 성장률은 전년에 비해 5% 포인트 증가했다.\n"
     ]
    }
   ],
   "source": [
    "txt1 = '자바'; txt2='파이썬'\n",
    "num1 = 5; num2 = 10\n",
    "print('나는 %s보다 %s에 더 익숙합니다.'%(txt1, txt2))\n",
    "print('%s은 %s보다 %d배 더 쉽습니다.'%(txt2, txt1, num2))\n",
    "print('%d + %d = %d' %(num1, num2, num1+num2))\n",
    "print('작년 세계 경제 성장률은 전년에 비해 %d%% 포인트 증가했다.'%num1)"
   ]
  },
  {
   "cell_type": "code",
   "execution_count": 1,
   "metadata": {},
   "outputs": [
    {
     "name": "stdout",
     "output_type": "stream",
     "text": [
      "진행률 100%"
     ]
    }
   ],
   "source": [
    "from time import sleep\n",
    "for i in range(100):\n",
    "    msg = '\\r진행률 %d%%'%(i+1)\n",
    "    print(''*len(msg), end='')\n",
    "    print(msg, end=\"\")\n",
    "    sleep(0.1)"
   ]
  },
  {
   "cell_type": "code",
   "execution_count": 12,
   "metadata": {},
   "outputs": [
    {
     "name": "stdout",
     "output_type": "stream",
     "text": [
      "나는 파이썬을 사랑합니다.\n",
      "파이썬은 자바보다 훨씬 쉽습니다.\n",
      "Name:John Smith\tSex:Male\tAge:22\n",
      "이 문장은 화면폭에 비해 너무 길어 보기가 힘듭니다.그래서 \\Enter키를 이용해 문장을 다음줄과 연속되도록 했습니다.\n",
      "작은따옴표(')와 큰 따옴표(\")는 문자열을 정의할 때 사용합니다.\n"
     ]
    }
   ],
   "source": [
    "print(\"나는 파이썬을 사랑합니다.\\n파이썬은 자바보다 훨씬 쉽습니다.\")\n",
    "print(\"Name:John Smith\\tSex:Male\\tAge:22\")\n",
    "print(\"이 문장은 화면폭에 비해 너무 길어 보기가 힘듭니다.\\\n",
    "그래서 \\\\Enter키를 이용해 문장을 다음줄과 연속되도록 했습니다.\")\n",
    "print('작은따옴표(\\')와 큰 따옴표(\\\")는 문자열을 정의할 때 사용합니다.')"
   ]
  },
  {
   "cell_type": "code",
   "execution_count": 20,
   "metadata": {},
   "outputs": [
    {
     "name": "stdout",
     "output_type": "stream",
     "text": [
      "[6, 2, 3, 4, 5]\n",
      "안녕하세요\n"
     ]
    }
   ],
   "source": [
    "list1 = [1,2,3,4,5]\n",
    "list2 = ['a','b','c']\n",
    "list3 = [1, 'a', 'abc', [1,2,3,4,5], ['a','b','c']]\n",
    "list1[0] = 6\n",
    "print(list1)\n",
    "def myfunc():\n",
    "    print(\"안녕하세요\")\n",
    "list4 = [1,2,myfunc]\n",
    "list4[2]()"
   ]
  },
  {
   "cell_type": "code",
   "execution_count": 25,
   "metadata": {},
   "outputs": [
    {
     "name": "stdout",
     "output_type": "stream",
     "text": [
      "안녕하세요\n"
     ]
    }
   ],
   "source": [
    "tuple1 = (1,2,3,4,5)\n",
    "tuple2 = ('a','b','c')\n",
    "tuple3 = (1, 'a', 'abc', [1,2,3,4,5], ['a','b','c'])\n",
    "# tuple1[0] = 6\n",
    "\n",
    "def myfunc():\n",
    "    print(\"안녕하세요\")\n",
    "    \n",
    "tuple4 =(1,2,myfunc)\n",
    "tuple4[2]()"
   ]
  },
  {
   "cell_type": "code",
   "execution_count": 30,
   "metadata": {},
   "outputs": [
    {
     "name": "stdout",
     "output_type": "stream",
     "text": [
      "1\n",
      "{'a': 1, 'b': 2, 'c': 3, 'd': 4}\n",
      "{'a': 1, 'b': 7, 'c': 3, 'd': 4}\n",
      "4\n"
     ]
    }
   ],
   "source": [
    "dict1 = {'a':1, 'b':2, 'c':3}\n",
    "print(dict1['a'])\n",
    "dict1['d']=4\n",
    "print(dict1)\n",
    "dict1['b']=7\n",
    "print(dict1)\n",
    "print(len(dict1))"
   ]
  },
  {
   "cell_type": "code",
   "execution_count": 34,
   "metadata": {},
   "outputs": [
    {
     "name": "stdout",
     "output_type": "stream",
     "text": [
      "25\n",
      "대한민국~만세!!\n"
     ]
    }
   ],
   "source": [
    "def add_number(n1, n2):\n",
    "    ret = n1+n2\n",
    "    return ret\n",
    "\n",
    "def add_txt(t1, t2):\n",
    "    print(t1+t2)\n",
    "    \n",
    "ans = add_number(10,15)\n",
    "print(ans)\n",
    "\n",
    "text1 = '대한민국~'\n",
    "text2 = '만세!!'\n",
    "add_txt(text1, text2)"
   ]
  },
  {
   "cell_type": "code",
   "execution_count": 39,
   "metadata": {},
   "outputs": [
    {
     "name": "stdout",
     "output_type": "stream",
     "text": [
      "안녕 친구야\n"
     ]
    }
   ],
   "source": [
    "add_number(100,150)\n",
    "add_txt('안녕',' 친구야')"
   ]
  },
  {
   "cell_type": "code",
   "execution_count": 45,
   "metadata": {},
   "outputs": [
    {
     "name": "stdout",
     "output_type": "stream",
     "text": [
      "베스트python\n",
      "1등대한민국\n",
      "()\n",
      "(3, 5, 1, 5)\n",
      "{}\n",
      "{'depth': 50, 'color': 'blue'}\n"
     ]
    }
   ],
   "source": [
    "def add_txt(t1, t2='python'):\n",
    "    print(t1+''+t2)\n",
    "    \n",
    "add_txt(\"베스트\")\n",
    "add_txt(t2=\"대한민국\",t1='1등')\n",
    "\n",
    "def func1(*args):\n",
    "    print(args)\n",
    "\n",
    "def func2(width, height, **kwargs):\n",
    "    print(kwargs)\n",
    "\n",
    "func1()\n",
    "func1(3,5,1,5)\n",
    "func2(10,20)\n",
    "func2(10,20, depth=50, color='blue')\n"
   ]
  },
  {
   "cell_type": "code",
   "execution_count": 47,
   "metadata": {},
   "outputs": [
    {
     "name": "stdout",
     "output_type": "stream",
     "text": [
      "지역변수\n",
      "전역변수\n",
      "10\n",
      "10\n",
      "50\n"
     ]
    }
   ],
   "source": [
    "param = 10\n",
    "strdata = '전역변수'\n",
    "\n",
    "def func1():\n",
    "    strdata = '지역변수'\n",
    "    print(strdata)\n",
    "    \n",
    "def func2(param):\n",
    "    param = 1\n",
    "    \n",
    "def func3():\n",
    "    global param\n",
    "    param = 50\n",
    "\n",
    "func1()\n",
    "print(strdata)\n",
    "print(param)\n",
    "func2(param)\n",
    "print(param)\n",
    "func3()\n",
    "print(param)"
   ]
  },
  {
   "cell_type": "code",
   "execution_count": 49,
   "metadata": {},
   "outputs": [
    {
     "name": "stdout",
     "output_type": "stream",
     "text": [
      "(3, 2, 1)\n",
      "c\n",
      "b\n",
      "a\n"
     ]
    }
   ],
   "source": [
    "def reverse(x,y,z):\n",
    "    return z,y,x\n",
    "\n",
    "ret = reverse(1,2,3)\n",
    "print(ret)\n",
    "\n",
    "r1,r2,r3 = reverse('a','b','c')\n",
    "print(r1);print(r2);print(r3)"
   ]
  },
  {
   "cell_type": "code",
   "execution_count": 53,
   "metadata": {},
   "outputs": [
    {
     "name": "stdout",
     "output_type": "stream",
     "text": [
      "5초간 프로그램을 정지합니다.\n",
      "5초가 지나갔습니다.\n"
     ]
    }
   ],
   "source": [
    "import time\n",
    "\n",
    "print('5초간 프로그램을 정지합니다.')\n",
    "time.sleep(5)\n",
    "print('5초가 지나갔습니다.')"
   ]
  },
  {
   "cell_type": "code",
   "execution_count": 68,
   "metadata": {},
   "outputs": [],
   "source": [
    "def add_txt(t1,t2):\n",
    "    return t1+':'+t2\n",
    "\n",
    "def reverse(x,y,z):\n",
    "    return z,y,x"
   ]
  },
  {
   "cell_type": "code",
   "execution_count": 75,
   "metadata": {},
   "outputs": [
    {
     "name": "stdout",
     "output_type": "stream",
     "text": [
      "대한민국:1등\n",
      "(3, 2, 1)\n"
     ]
    }
   ],
   "source": [
    "import mylib\n",
    "\n",
    "ret1 = mylib.add_txt('대한민국', '1등')\n",
    "ret2 = mylib.reverse(1,2,3)\n",
    "print(ret1)\n",
    "print(ret2)"
   ]
  },
  {
   "cell_type": "code",
   "execution_count": 87,
   "metadata": {},
   "outputs": [
    {
     "data": {
      "text/plain": [
       "(3, 2, 1)"
      ]
     },
     "execution_count": 87,
     "metadata": {},
     "output_type": "execute_result"
    }
   ],
   "source": [
    "import mypackage.mylib\n",
    "\n",
    "ret1 = mypackage.mylib.add_txt('대한민국','1등')\n",
    "ret2 = mypackage.mylib.reverse(1,2,3)\n",
    "\n",
    "ret1\n",
    "ret2"
   ]
  },
  {
   "cell_type": "code",
   "execution_count": null,
   "metadata": {},
   "outputs": [],
   "source": []
  },
  {
   "cell_type": "code",
   "execution_count": 86,
   "metadata": {},
   "outputs": [
    {
     "name": "stdout",
     "output_type": "stream",
     "text": [
      "나는:파이썬이다\n",
      "(3, 2, 1)\n"
     ]
    }
   ],
   "source": [
    "import time\n",
    "import mylib\n",
    "import mypackage.mylib\n",
    "\n",
    "time.sleep(1)\n",
    "print(mylib.add_txt('나는','파이썬이다'))\n",
    "print(mypackage.mylib.reverse(1,2,3))"
   ]
  },
  {
   "cell_type": "code",
   "execution_count": 90,
   "metadata": {},
   "outputs": [
    {
     "data": {
      "text/plain": [
       "(3, 2, 1)"
      ]
     },
     "execution_count": 90,
     "metadata": {},
     "output_type": "execute_result"
    }
   ],
   "source": [
    "from time import sleep\n",
    "from mypackage import mylib\n",
    "from mypackage.mylib import reverse\n",
    "\n",
    "sleep(1)\n",
    "mylib.add_txt('나는','파이썬이다')\n",
    "reverse(1,2,3)"
   ]
  },
  {
   "cell_type": "code",
   "execution_count": 92,
   "metadata": {},
   "outputs": [],
   "source": [
    "import mypackage as mp\n",
    "import mypackage.mylib as ml\n",
    "\n",
    "ret1 = mp.mylib.add_txt('대한민국','1등')\n",
    "ret2 = ml.reverse(1,2,3)"
   ]
  },
  {
   "cell_type": "code",
   "execution_count": 104,
   "metadata": {},
   "outputs": [],
   "source": [
    "f1 = open('text.txt','r')\n",
    "f1.close()"
   ]
  },
  {
   "cell_type": "code",
   "execution_count": null,
   "metadata": {},
   "outputs": [],
   "source": [
    "class MyClass:\n",
    "    var = '안녕하세요'"
   ]
  }
 ],
 "metadata": {
  "kernelspec": {
   "display_name": "Python 3.8.2 64-bit",
   "language": "python",
   "name": "python38264bit4094e939a8b946f98cca8c730a8cf25e"
  },
  "language_info": {
   "codemirror_mode": {
    "name": "ipython",
    "version": 3
   },
   "file_extension": ".py",
   "mimetype": "text/x-python",
   "name": "python",
   "nbconvert_exporter": "python",
   "pygments_lexer": "ipython3",
   "version": "3.8.3"
  }
 },
 "nbformat": 4,
 "nbformat_minor": 4
}
